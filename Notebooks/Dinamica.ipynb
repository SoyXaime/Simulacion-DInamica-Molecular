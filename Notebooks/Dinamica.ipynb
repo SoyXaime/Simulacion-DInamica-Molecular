{
 "cells": [
  {
   "cell_type": "markdown",
   "id": "f5f4cdf8-a715-4243-a5e7-4dac369559fc",
   "metadata": {},
   "source": [
    "# Analisis de propeidades estaticas\n",
    "- Energía cinética media -> Temperatura media\n",
    "- Fuerza cuadratica media\n",
    "- Presión\n",
    "- ..."
   ]
  },
  {
   "cell_type": "markdown",
   "id": "2efead94-6539-459e-a945-392ea0af8735",
   "metadata": {},
   "source": [
    "## Importación de librerías y lectura de datos"
   ]
  },
  {
   "cell_type": "code",
   "execution_count": 1,
   "id": "3ca829a6-de51-4742-9b37-1f04a6868744",
   "metadata": {},
   "outputs": [],
   "source": [
    "import numpy as np\n",
    "import pandas as pd\n",
    "import matplotlib.pyplot as plt"
   ]
  },
  {
   "cell_type": "code",
   "execution_count": 2,
   "id": "1c0cf289",
   "metadata": {},
   "outputs": [
    {
     "data": {
      "text/plain": [
       "'/Users/xaime/Desktop/Cuarto/Simulacion/Programas/Proyectos/Notebooks'"
      ]
     },
     "execution_count": 2,
     "metadata": {},
     "output_type": "execute_result"
    }
   ],
   "source": [
    "import os\n",
    "os.getcwd()"
   ]
  },
  {
   "cell_type": "code",
   "execution_count": 3,
   "id": "295c449b",
   "metadata": {},
   "outputs": [
    {
     "name": "stdout",
     "output_type": "stream",
     "text": [
      "True\n",
      "../resultados\n",
      "dinamica\n",
      "dinamica\n"
     ]
    }
   ],
   "source": [
    "from pathlib import Path\n",
    "#codigo =\"110-160\"\n",
    "\n",
    "ruta_base = Path(\"..\") / \"resultados\" / \"dinamica\"\n",
    "\n",
    "ruta=ruta_base\n",
    "print(ruta.exists())  # True o False\n",
    "print(ruta.parent)    # Ruta al directorio padre\n",
    "print(ruta.name)      # archivo.txt\n",
    "print(ruta.stem)      # archivo"
   ]
  },
  {
   "cell_type": "code",
   "execution_count": 4,
   "id": "05140488",
   "metadata": {},
   "outputs": [],
   "source": [
    "#pd.read_csv(ruta, sep=r'\\s+')"
   ]
  },
  {
   "cell_type": "code",
   "execution_count": 5,
   "id": "f8b354cb-9290-4a52-bc71-e827d4e68f6f",
   "metadata": {},
   "outputs": [],
   "source": [
    "codigos=[\"110-160\",\"160-210\",\"110-160\",\"210-260\",\"260-310\",\"310-360\",\"360-410\",\"410-460\",\"460-510\",\"510-560\",\"560-610\"] #Tiempo de inicio de simulacion-Tiempo de fin de simulacion\n",
    "#codigos=[\"110-160\",\"160-210\"]\n",
    "DFS_vx=[]\n",
    "DFS_vy=[]\n",
    "DFS_vz=[]\n",
    "\n",
    "DATOS=[]\n",
    "\n",
    "for codigo in codigos:\n",
    "    DFS_vx.append(pd.read_csv(ruta_base / f\"Simulacion_{codigo}\"/\"velocidad_x.txt\", sep=r\"\\s+\", header=None))\n",
    "    DFS_vy.append(pd.read_csv(ruta_base/ f\"Simulacion_{codigo}\"/\"velocidad_y.txt\", sep=r\"\\s+\", header=None))\n",
    "    DFS_vz.append(pd.read_csv(ruta_base / f\"Simulacion_{codigo}\"/\"velocidad_z.txt\", sep=r\"\\s+\", header=None))\n",
    "    DATOS.append(pd.read_csv(ruta_base/ f\"Simulacion_{codigo}\"/\"gname2.txt\",skiprows=1, sep=r\"\\s+\", header=None, names=['t','Ec','Ep','E_tot','W','T','P_corr','F2',\"df_V\",\"df_VV\"]))\n",
    "\n",
    "\n",
    "    "
   ]
  },
  {
   "cell_type": "code",
   "execution_count": 6,
   "id": "bffcb4dd-5e1c-4272-a9d9-07b55e1bbcd4",
   "metadata": {},
   "outputs": [
    {
     "data": {
      "text/plain": [
       "array([1.000e-02, 2.000e-02, 3.000e-02, ..., 4.998e+01, 4.999e+01,\n",
       "       5.000e+01], shape=(5000,))"
      ]
     },
     "execution_count": 6,
     "metadata": {},
     "output_type": "execute_result"
    }
   ],
   "source": [
    "tiempos=[df.t.to_numpy() for df in DATOS]\n",
    "\n",
    "tiempos[0]"
   ]
  },
  {
   "cell_type": "code",
   "execution_count": 7,
   "id": "75e484fd",
   "metadata": {},
   "outputs": [
    {
     "data": {
      "text/html": [
       "<div>\n",
       "<style scoped>\n",
       "    .dataframe tbody tr th:only-of-type {\n",
       "        vertical-align: middle;\n",
       "    }\n",
       "\n",
       "    .dataframe tbody tr th {\n",
       "        vertical-align: top;\n",
       "    }\n",
       "\n",
       "    .dataframe thead th {\n",
       "        text-align: right;\n",
       "    }\n",
       "</style>\n",
       "<table border=\"1\" class=\"dataframe\">\n",
       "  <thead>\n",
       "    <tr style=\"text-align: right;\">\n",
       "      <th></th>\n",
       "      <th>t</th>\n",
       "      <th>Ec</th>\n",
       "      <th>Ep</th>\n",
       "      <th>E_tot</th>\n",
       "      <th>W</th>\n",
       "      <th>T</th>\n",
       "      <th>P_corr</th>\n",
       "      <th>F2</th>\n",
       "      <th>df_V</th>\n",
       "      <th>df_VV</th>\n",
       "    </tr>\n",
       "  </thead>\n",
       "  <tbody>\n",
       "    <tr>\n",
       "      <th>0</th>\n",
       "      <td>0.01</td>\n",
       "      <td>984.9776</td>\n",
       "      <td>-1649.988</td>\n",
       "      <td>-665.0102</td>\n",
       "      <td>-789.5741</td>\n",
       "      <td>1.313304</td>\n",
       "      <td>0.359951</td>\n",
       "      <td>685.9454</td>\n",
       "      <td>0.296700</td>\n",
       "      <td>0.011123</td>\n",
       "    </tr>\n",
       "    <tr>\n",
       "      <th>1</th>\n",
       "      <td>0.02</td>\n",
       "      <td>987.5844</td>\n",
       "      <td>-1652.602</td>\n",
       "      <td>-665.0176</td>\n",
       "      <td>-836.4202</td>\n",
       "      <td>1.316779</td>\n",
       "      <td>0.346074</td>\n",
       "      <td>696.8760</td>\n",
       "      <td>0.312316</td>\n",
       "      <td>0.011035</td>\n",
       "    </tr>\n",
       "    <tr>\n",
       "      <th>2</th>\n",
       "      <td>0.03</td>\n",
       "      <td>994.5876</td>\n",
       "      <td>-1659.602</td>\n",
       "      <td>-665.0140</td>\n",
       "      <td>-953.2871</td>\n",
       "      <td>1.326117</td>\n",
       "      <td>0.311787</td>\n",
       "      <td>678.2810</td>\n",
       "      <td>0.351271</td>\n",
       "      <td>0.010818</td>\n",
       "    </tr>\n",
       "    <tr>\n",
       "      <th>3</th>\n",
       "      <td>0.04</td>\n",
       "      <td>1005.8390</td>\n",
       "      <td>-1670.855</td>\n",
       "      <td>-665.0161</td>\n",
       "      <td>-1131.5710</td>\n",
       "      <td>1.341119</td>\n",
       "      <td>0.259860</td>\n",
       "      <td>601.9847</td>\n",
       "      <td>0.410699</td>\n",
       "      <td>0.010492</td>\n",
       "    </tr>\n",
       "    <tr>\n",
       "      <th>4</th>\n",
       "      <td>0.05</td>\n",
       "      <td>1016.8950</td>\n",
       "      <td>-1681.908</td>\n",
       "      <td>-665.0133</td>\n",
       "      <td>-1304.7530</td>\n",
       "      <td>1.355860</td>\n",
       "      <td>0.209503</td>\n",
       "      <td>531.0198</td>\n",
       "      <td>0.468426</td>\n",
       "      <td>0.010176</td>\n",
       "    </tr>\n",
       "  </tbody>\n",
       "</table>\n",
       "</div>"
      ],
      "text/plain": [
       "      t         Ec        Ep     E_tot          W         T    P_corr  \\\n",
       "0  0.01   984.9776 -1649.988 -665.0102  -789.5741  1.313304  0.359951   \n",
       "1  0.02   987.5844 -1652.602 -665.0176  -836.4202  1.316779  0.346074   \n",
       "2  0.03   994.5876 -1659.602 -665.0140  -953.2871  1.326117  0.311787   \n",
       "3  0.04  1005.8390 -1670.855 -665.0161 -1131.5710  1.341119  0.259860   \n",
       "4  0.05  1016.8950 -1681.908 -665.0133 -1304.7530  1.355860  0.209503   \n",
       "\n",
       "         F2      df_V     df_VV  \n",
       "0  685.9454  0.296700  0.011123  \n",
       "1  696.8760  0.312316  0.011035  \n",
       "2  678.2810  0.351271  0.010818  \n",
       "3  601.9847  0.410699  0.010492  \n",
       "4  531.0198  0.468426  0.010176  "
      ]
     },
     "execution_count": 7,
     "metadata": {},
     "output_type": "execute_result"
    }
   ],
   "source": [
    "pd.read_csv(ruta_base/ f\"Simulacion_{codigo}\"/\"gname2.txt\",skiprows=1, sep=r\"\\s+\", header=None, names=['t','Ec','Ep','E_tot','W','T','P_corr','F2',\"df_V\",\"df_VV\"]).head()"
   ]
  },
  {
   "cell_type": "markdown",
   "id": "78741853-fc42-4c6f-bd03-aa78688c6744",
   "metadata": {},
   "source": [
    "### Formato de datos importados"
   ]
  },
  {
   "cell_type": "markdown",
   "id": "710d9606-7a64-4c9f-acc4-a0c62ac7a642",
   "metadata": {},
   "source": [
    "- En las columnas tenemos las particulas de la caja etiquetadas del 0 al 499\n",
    "- En las filas tenemos instantes sucesivos de tiempo grabados de nuestra simulacion."
   ]
  },
  {
   "cell_type": "code",
   "execution_count": 8,
   "id": "d075f6ec-be69-4d58-889a-ef59b2c32149",
   "metadata": {},
   "outputs": [
    {
     "data": {
      "text/html": [
       "<div>\n",
       "<style scoped>\n",
       "    .dataframe tbody tr th:only-of-type {\n",
       "        vertical-align: middle;\n",
       "    }\n",
       "\n",
       "    .dataframe tbody tr th {\n",
       "        vertical-align: top;\n",
       "    }\n",
       "\n",
       "    .dataframe thead th {\n",
       "        text-align: right;\n",
       "    }\n",
       "</style>\n",
       "<table border=\"1\" class=\"dataframe\">\n",
       "  <thead>\n",
       "    <tr style=\"text-align: right;\">\n",
       "      <th></th>\n",
       "      <th>Ec</th>\n",
       "      <th>Ep</th>\n",
       "      <th>E_tot</th>\n",
       "      <th>W</th>\n",
       "      <th>T</th>\n",
       "      <th>P_corr</th>\n",
       "      <th>F2</th>\n",
       "      <th>df_V</th>\n",
       "      <th>df_VV</th>\n",
       "    </tr>\n",
       "  </thead>\n",
       "  <tbody>\n",
       "    <tr>\n",
       "      <th>mean</th>\n",
       "      <td>1020.838556</td>\n",
       "      <td>-1685.862903</td>\n",
       "      <td>-665.024343</td>\n",
       "      <td>-1237.278831</td>\n",
       "      <td>1.361118</td>\n",
       "      <td>0.234624</td>\n",
       "      <td>572.803022</td>\n",
       "      <td>0.445935</td>\n",
       "      <td>0.010365</td>\n",
       "    </tr>\n",
       "    <tr>\n",
       "      <th>std</th>\n",
       "      <td>17.044929</td>\n",
       "      <td>17.047605</td>\n",
       "      <td>0.025719</td>\n",
       "      <td>337.659963</td>\n",
       "      <td>0.022727</td>\n",
       "      <td>0.106306</td>\n",
       "      <td>79.605908</td>\n",
       "      <td>0.112553</td>\n",
       "      <td>0.000717</td>\n",
       "    </tr>\n",
       "  </tbody>\n",
       "</table>\n",
       "</div>"
      ],
      "text/plain": [
       "               Ec           Ep       E_tot            W         T    P_corr  \\\n",
       "mean  1020.838556 -1685.862903 -665.024343 -1237.278831  1.361118  0.234624   \n",
       "std     17.044929    17.047605    0.025719   337.659963  0.022727  0.106306   \n",
       "\n",
       "              F2      df_V     df_VV  \n",
       "mean  572.803022  0.445935  0.010365  \n",
       "std    79.605908  0.112553  0.000717  "
      ]
     },
     "execution_count": 8,
     "metadata": {},
     "output_type": "execute_result"
    }
   ],
   "source": [
    "DATOS[-1].iloc[:,1:].agg([\"mean\",\"std\"])\n",
    "#DATOS[-1].min()"
   ]
  },
  {
   "cell_type": "code",
   "execution_count": 9,
   "id": "cbbd2ea1-e8fc-443e-9d91-3ae228a86b84",
   "metadata": {},
   "outputs": [
    {
     "name": "stdout",
     "output_type": "stream",
     "text": [
      "<F²> = 572.620316 ± 0.866832\n",
      "<Ec> = 1023.669169 ± 0.502634\n",
      "<Ep> = -1688.693250 ± 0.503223\n",
      "<W> = -1235.755736 ± 4.969761\n",
      "W/3V ES LA DERIVADA PRIMERA DEL POTENCIAL\n",
      "FALTAN LA DERIVADA SEGUNDA DEL POTENCIAL\n",
      "<P>  = 0.237019 ± 0.001756\n"
     ]
    }
   ],
   "source": [
    "F2s_mean=[]\n",
    "F2s_std=[]\n",
    "\n",
    "Ecs_mean=[]\n",
    "Ecs_std=[]\n",
    "\n",
    "Eps_mean=[]\n",
    "Eps_std=[]\n",
    "\n",
    "Es_mean=[]\n",
    "Es_std=[]\n",
    "\n",
    "Ws_mean=[]\n",
    "Ws_std=[]\n",
    "\n",
    "df_Vs_mean=[]\n",
    "df_Vs_std=[]\n",
    "\n",
    "df_VVs_mean=[]\n",
    "df_VVs_std=[]\n",
    "\n",
    "\n",
    "Ps_mean=[]\n",
    "Ps_std=[]\n",
    "\n",
    "\n",
    "for df in DATOS:\n",
    "    F2s_mean.append(df.iloc[:,1:].agg([\"mean\",\"std\"]).loc[\"mean\",\"F2\"])\n",
    "    F2s_std.append(df.iloc[:,1:].agg([\"mean\",\"std\"]).loc[\"std\",\"F2\"])\n",
    "\n",
    "    Ecs_mean.append(df.iloc[:,1:].agg([\"mean\",\"std\"]).loc[\"mean\",\"Ec\"])\n",
    "    Ecs_std.append(df.iloc[:,1:].agg([\"mean\",\"std\"]).loc[\"std\",\"Ec\"])\n",
    "\n",
    "    Eps_mean.append(df.iloc[:,1:].agg([\"mean\",\"std\"]).loc[\"mean\",\"Ep\"])\n",
    "    Eps_std.append(df.iloc[:,1:].agg([\"mean\",\"std\"]).loc[\"std\",\"Ep\"])\n",
    "\n",
    "    Es_mean.append(df.iloc[:,1:].agg([\"mean\",\"std\"]).loc[\"mean\",\"E_tot\"])\n",
    "    Es_std.append(df.iloc[:,1:].agg([\"mean\",\"std\"]).loc[\"std\",\"E_tot\"])\n",
    "\n",
    "    Ws_mean.append(df.iloc[:,1:].agg([\"mean\",\"std\"]).loc[\"mean\",\"W\"])\n",
    "    Ws_std.append(df.iloc[:,1:].agg([\"mean\",\"std\"]).loc[\"std\",\"W\"])\n",
    "\n",
    "    df_Vs_mean.append(df.iloc[:,1:].agg([\"mean\",\"std\"]).loc[\"mean\",\"df_V\"])\n",
    "    df_Vs_std.append(df.iloc[:,1:].agg([\"mean\",\"std\"]).loc[\"std\",\"df_V\"])\n",
    "\n",
    "    df_VVs_mean.append(df.iloc[:,1:].agg([\"mean\",\"std\"]).loc[\"mean\",\"df_VV\"])\n",
    "    df_VVs_std.append(df.iloc[:,1:].agg([\"mean\",\"std\"]).loc[\"std\",\"df_VV\"])\n",
    "\n",
    "    Ps_mean.append(df.iloc[:,1:].agg([\"mean\",\"std\"]).loc[\"mean\",\"P_corr\"])\n",
    "    Ps_std.append(df.iloc[:,1:].agg([\"mean\",\"std\"]).loc[\"std\",\"P_corr\"])\n",
    "\n",
    "\n",
    "F2s_mean=np.array(F2s_mean)\n",
    "F2s_std=np.array(F2s_mean)\n",
    "\n",
    "Ecs_mean=np.array(Ecs_mean)\n",
    "Ecs_std=np.array(Ecs_std)\n",
    "\n",
    "Eps_mean=np.array(Eps_mean)\n",
    "Eps_std=np.array(Eps_std)\n",
    "\n",
    "Es_mean=np.array(Es_mean)\n",
    "Es_std=np.array(Es_std)\n",
    "\n",
    "Ws_mean=np.array(Ws_mean)\n",
    "Ws_std=np.array(Ws_std)\n",
    "\n",
    "df_Vs_mean=np.array(df_Vs_mean)\n",
    "df_Vs_std=np.array(df_Vs_std)\n",
    "\n",
    "df_VVs_mean=np.array(df_VVs_mean)\n",
    "df_VVs_std=np.array(df_VVs_std)\n",
    "\n",
    "Ps_mean=np.array(Ps_mean)\n",
    "Ps_std=np.array(Ps_std)\n",
    "\n",
    "\n",
    "\"\"\"\n",
    "print(\"Ec=\",)\n",
    "\n",
    "print(F2s_mean)\n",
    "print(F2s_std)\n",
    "print(Ecs_mean)\n",
    "print(Ecs_std)\n",
    "print(Ps_mean)\n",
    "print(Ps_std)\n",
    "\n",
    "\"\"\"\n",
    "\n",
    "# Media global = media de las medias\n",
    "F2_mean = np.mean(F2s_mean)\n",
    "Ec_mean = np.mean(Ecs_mean)\n",
    "Ep_mean = np.mean(Eps_mean)\n",
    "W_mean = np.mean(Ws_mean)\n",
    "df_V_mean = np.mean(df_Vs_mean)\n",
    "df_VV_mean = np.mean(df_VVs_mean)\n",
    "\n",
    "P_mean  = np.mean(Ps_mean)\n",
    "\n",
    "# Error estándar de la media global --> ¿Deberia tener en cuenta las std de cada bloque simulado?\n",
    "F2_err = np.std(F2s_mean, ddof=1) / np.sqrt(len(F2s_mean))\n",
    "Ec_err = np.std(Ecs_mean, ddof=1) / np.sqrt(len(Ecs_mean))\n",
    "Ep_err = np.std(Eps_mean, ddof=1) / np.sqrt(len(Eps_mean))\n",
    "W_err = np.std(Ws_mean, ddof=1) / np.sqrt(len(Ws_mean))\n",
    "P_err  = np.std(Ps_mean, ddof=1) / np.sqrt(len(Ps_mean))\n",
    "\n",
    "print(f\"<F²> = {F2_mean:.6f} ± {F2_err:.6f}\")\n",
    "print(f\"<Ec> = {Ec_mean:.6f} ± {Ec_err:.6f}\")\n",
    "print(f\"<Ep> = {Ep_mean:.6f} ± {Ep_err:.6f}\")\n",
    "print(f\"<W> = {W_mean:.6f} ± {W_err:.6f}\")\n",
    "print(\"W/3V ES LA DERIVADA PRIMERA DEL POTENCIAL\")\n",
    "print(\"FALTAN LA DERIVADA SEGUNDA DEL POTENCIAL\")\n",
    "\n",
    "print(f\"<P>  = {P_mean:.6f} ± {P_err:.6f}\")"
   ]
  },
  {
   "cell_type": "markdown",
   "id": "0fa4809f-538d-4211-8f16-1904b164a765",
   "metadata": {},
   "source": [
    "# 🧮 Propiedades estáticas\n",
    "\n",
    "\n",
    "## Ecuaciones teóricas (Error: estas ecuaciones son para la colectividad canonica, no la microcanonica)\n",
    "\n",
    "$$\n",
    "C_V = \\frac{3}{2} + \\frac{1}{T^2} \\left( \\langle \\phi^2 \\rangle - \\langle \\phi \\rangle^2 \\right)\n",
    "$$\n",
    "\n",
    "$$\n",
    "\\frac{1}{\\kappa_T} = \\frac{N T}{V} + V \\langle \\phi_{VV} \\rangle - \\frac{V}{T} \\left( \\langle \\phi_V^2 \\rangle - \\langle \\phi_V \\rangle^2 \\right)\n",
    "$$\n",
    "\n",
    "$$\n",
    "\\gamma = \\frac{V}{C_V} \n",
    "\\left[\n",
    "\\frac{N k_B}{V} + \\frac{1}{k_B T^2}\n",
    "\\left(\n",
    "\\langle \\phi \\rangle \\langle \\phi_V \\rangle - \\langle \\phi \\phi_V \\rangle\n",
    "\\right)\n",
    "\\right]\n",
    "$$\n",
    "\n",
    "---\n",
    "\n",
    "## Para calcular todas las propiedades se necesita:\n",
    "- $\\langle E \\rangle, \\langle E^2 \\rangle$\n",
    "- $\\langle \\phi_V \\rangle, \\langle \\phi_V^2 \\rangle$\n",
    "- $\\langle \\phi_{VV} \\rangle$\n",
    "- $\\langle \\phi \\rangle, \\langle \\phi \\phi_V \\rangle$\n",
    "- $T, N, V$\n"
   ]
  },
  {
   "cell_type": "code",
   "execution_count": 102,
   "id": "07a685e8-51c0-45a4-b9e4-a293b229510a",
   "metadata": {},
   "outputs": [],
   "source": [
    "def Cv(Ec_mean, Ec_1_mean):\n",
    "    return 1/( 1+ (2/3 -1)*Ec_mean*Ec_1_mean )\n",
    "\n",
    "def gamma(V, Cv, N, df_V_mean, Ec_1_mean, df_V_Ec_1_mean):\n",
    "    return (N/Cv)+ V*(3/2-1)*( df_V_mean*Ec_1_mean - df_V_Ec_1_mean  )\n",
    "    \n",
    "def inv_ks(N, T, V, gamma, Cv, df_VV_mean,df_V2_EC_1_mean,df_V_mean,df_V_Ec_1_mean,Ec_1_mean):\n",
    "    return (N*T/V) + (1+2*gamma - N/Cv) + V*df_VV_mean - V*(3/2-1)*( df_V2_EC_1_mean - 2*df_V_mean*df_V_Ec_1_mean + df_V_mean**2 * Ec_1_mean )\n",
    "\n",
    "\n",
    "#def alpha_P()\n",
    "\n",
    "#def alpha_E\n",
    "\n",
    "\n",
    "#def Cv(T, Ep2_mean, Ep_mean2, N):\n",
    " #   return 1.5 + (Ep2_mean - Ep_mean2) / T**2\n",
    "\n",
    "#def Kt_1(N, T, V, df_VV_mean, df_V2_mean, df_V_mean2):\n",
    "  #  return (N*T/V) + V*df_VV_mean - (V/T)*(df_V2_mean - df_V_mean2)\n",
    "\n",
    "#def gamma(V, Cv_total, N, T, phi_mean, phiV_mean, phi_phiV_mean):\n",
    " #   return (V / Cv_total) * ((N / V) + ((phi_mean*phiV_mean - phi_phiV_mean) / (T**2)))"
   ]
  },
  {
   "cell_type": "code",
   "execution_count": 103,
   "id": "3332fb1c",
   "metadata": {},
   "outputs": [
    {
     "name": "stdout",
     "output_type": "stream",
     "text": [
      "2851684.891735864 2851687.4240664025\n",
      "442257.02802724246\n"
     ]
    }
   ],
   "source": [
    "T=1.365501\n",
    "# Media global = media de las medias\n",
    "F2_mean = np.mean(F2s_mean)\n",
    "\n",
    "Ec_mean = np.mean(Ecs_mean)\n",
    "Ec_1_mean = np.mean(1/Ecs_mean)\n",
    "\n",
    "\n",
    "\n",
    "Ep_mean = np.mean(Eps_mean)\n",
    "Ep2_mean = np.mean(Eps_mean**2)\n",
    "print(Ep_mean**2,Ep2_mean)\n",
    "\n",
    "E_mean = np.mean(Es_mean)\n",
    "E2_mean = np.mean(Es_mean**2)\n",
    "\n",
    "print(E2_mean)\n",
    "\n",
    "df_V_mean = np.mean(df_Vs_mean)\n",
    "df_V2_mean = np.mean(df_Vs_mean**2)\n",
    "\n",
    "\n",
    "df_VV_mean = np.mean(df_VVs_mean)\n",
    "\n",
    "\n",
    "W_mean = np.mean(Ws_mean)\n",
    "P_mean  = np.mean(Ps_mean)\t\n",
    "\n",
    "df_V_Ec_1_mean=np.mean( (1/Ecs_mean)*df_Vs_mean )\n",
    "df_V2_EC_1_mean=np.mean( (1/Ecs_mean)* (df_Vs_mean**2) )\n"
   ]
  },
  {
   "cell_type": "code",
   "execution_count": 104,
   "id": "43e655e0-dd52-4a87-8903-0adb20433115",
   "metadata": {},
   "outputs": [],
   "source": [
    "N=500\n",
    "V=1000\n",
    "\n",
    "Cv=Cv(Ec_mean, Ec_1_mean)\n",
    "gamma=gamma(V, Cv, N, df_V_mean, Ec_1_mean, df_V_Ec_1_mean)\n",
    "inv_ks=inv_ks(N, T, V, gamma, Cv, df_VV_mean,df_V2_EC_1_mean,df_V_mean,df_V_Ec_1_mean,Ec_1_mean)\n"
   ]
  },
  {
   "cell_type": "code",
   "execution_count": 105,
   "id": "8eda1799-3b61-4e5b-968c-19f875f49cf2",
   "metadata": {},
   "outputs": [
    {
     "name": "stdout",
     "output_type": "stream",
     "text": [
      "Cv = 1.50000181e+00\n",
      "gamma = 3.333e+02\n",
      "inv_ks= 3.454e+02\n"
     ]
    }
   ],
   "source": [
    "print(f\"Cv = {Cv:.8e}\")\n",
    "#print(f\"kt= {1/Kt_1:.3e}\")\n",
    "print(f\"gamma = {gamma:.3e}\")\n",
    "print(f\"inv_ks= {inv_ks:.3e}\")"
   ]
  },
  {
   "cell_type": "code",
   "execution_count": 106,
   "id": "0bce12bc-2283-45e8-bb7e-f63a4d56d350",
   "metadata": {},
   "outputs": [],
   "source": [
    "#pd.read_csv(ruta_base/ f\"Simulacion_testeo\"/\"gname2.txt\",skiprows=1, sep=r\"\\s+\", header=None, names=['t','Ec','Ep','E_tot','W','T','P_corr','F2',\"df_V\",\"df_VV\"])"
   ]
  },
  {
   "cell_type": "code",
   "execution_count": 107,
   "id": "7232c446-b1ca-44d8-b96a-87d5c35a520e",
   "metadata": {},
   "outputs": [],
   "source": [
    "#Es_mean#.mean()\n",
    "\n",
    "#np.array([-665.02101696,222]).mean()"
   ]
  },
  {
   "cell_type": "code",
   "execution_count": 71,
   "id": "c38c1a49-ec39-44fb-ab47-619584ec8353",
   "metadata": {},
   "outputs": [],
   "source": [
    "#np.mean(Ws_mean)"
   ]
  },
  {
   "cell_type": "code",
   "execution_count": 72,
   "id": "b4b00f70-43ce-4a0e-9031-74ab175a80de",
   "metadata": {},
   "outputs": [],
   "source": [
    "#np.mean(df_V_mean,Eps_mean*df_Vs_mean)"
   ]
  },
  {
   "cell_type": "code",
   "execution_count": null,
   "id": "2c0fd50e-33da-4939-ae38-2bd53556406c",
   "metadata": {},
   "outputs": [],
   "source": []
  },
  {
   "cell_type": "code",
   "execution_count": null,
   "id": "5d57902c-7e72-40e4-8850-3e2c21b796d0",
   "metadata": {},
   "outputs": [],
   "source": []
  }
 ],
 "metadata": {
  "kernelspec": {
   "display_name": "Python [conda env:TFG]",
   "language": "python",
   "name": "conda-env-TFG-py"
  },
  "language_info": {
   "codemirror_mode": {
    "name": "ipython",
    "version": 3
   },
   "file_extension": ".py",
   "mimetype": "text/x-python",
   "name": "python",
   "nbconvert_exporter": "python",
   "pygments_lexer": "ipython3",
   "version": "3.12.12"
  }
 },
 "nbformat": 4,
 "nbformat_minor": 5
}
