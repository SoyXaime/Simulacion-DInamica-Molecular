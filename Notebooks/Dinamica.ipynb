{
 "cells": [
  {
   "metadata": {},
   "id": "f5f4cdf8-a715-4243-a5e7-4dac369559fc",
   "cell_type": "markdown",
   "source": "# Analisis de propeidades estaticas\n- Energía cinética media -> Temperatura media\n- Fuerza cuadratica media\n- Presión\n- ..."
  },
  {
   "metadata": {},
   "id": "2efead94-6539-459e-a945-392ea0af8735",
   "cell_type": "markdown",
   "source": "## Importación de librerías y lectura de datos"
  },
  {
   "metadata": {
    "trusted": true
   },
   "id": "3ca829a6-de51-4742-9b37-1f04a6868744",
   "cell_type": "code",
   "source": "import numpy as np\nimport pandas as pd\nimport matplotlib.pyplot as plt",
   "execution_count": 5,
   "outputs": []
  },
  {
   "metadata": {
    "trusted": true
   },
   "id": "1c0cf289",
   "cell_type": "code",
   "source": "import os\nos.getcwd()",
   "execution_count": 6,
   "outputs": [
    {
     "output_type": "execute_result",
     "execution_count": 6,
     "data": {
      "text/plain": "'/private/var/mobile/Containers/Data/Application/8C70C489-A646-4256-A688-F892C67ED0B6/Documents/Repos/Simulacion-DInamica-Molecular/Notebooks'"
     },
     "metadata": {}
    }
   ]
  },
  {
   "metadata": {
    "trusted": true
   },
   "id": "295c449b",
   "cell_type": "code",
   "source": "from pathlib import Path\n\nruta = Path(\"..\") / \"resultados\" / \"dinamica\" / \"Simulacion_110-160/gname2.txt\"\n\nprint(ruta.exists())  # True o False\nprint(ruta.parent)    # Ruta al directorio padre\nprint(ruta.name)      # archivo.txt\nprint(ruta.stem)      # archivo",
   "execution_count": 7,
   "outputs": [
    {
     "output_type": "stream",
     "text": "True\n../resultados/dinamica/Simulacion_110-160\ngname2.txt\ngname2\n",
     "name": "stdout"
    }
   ]
  },
  {
   "metadata": {
    "trusted": true
   },
   "cell_type": "code",
   "source": "pd.read_csv(ruta, sep=r'\\s+')",
   "execution_count": 8,
   "outputs": [
    {
     "output_type": "execute_result",
     "execution_count": 8,
     "data": {
      "text/plain": "          t         Ec        Ep     E_tot          W         T    P_corr  \\\n0      0.01  1016.1460 -1681.177 -665.0314 -1008.6110  1.354861  0.307718   \n1      0.02  1009.4510 -1674.483 -665.0322  -853.3452  1.345935  0.355010   \n2      0.03  1002.6610 -1667.683 -665.0224  -705.5814  1.336881  0.399738   \n3      0.04   997.5940 -1662.624 -665.0296  -592.0951  1.330125  0.434189   \n4      0.05   996.7793 -1661.809 -665.0293  -546.2595  1.329039  0.448924   \n...     ...        ...       ...       ...        ...       ...       ...   \n4995  49.96  1034.5940 -1699.641 -665.0471 -1180.0290  1.379459  0.262877   \n4996  49.97  1022.1360 -1687.186 -665.0498 -1002.7700  1.362848  0.313659   \n4997  49.98  1014.4410 -1679.493 -665.0521  -903.5724  1.352587  0.341594   \n4998  49.99  1014.1660 -1679.220 -665.0537  -923.7901  1.352222  0.334672   \n4999  50.00  1018.7250 -1683.778 -665.0532 -1030.0900  1.358299  0.302278   \n\n            F2  \n0     549.9444  \n1     573.0316  \n2     606.1855  \n3     639.9411  \n4     633.7288  \n...        ...  \n4995  562.2455  \n4996  662.9936  \n4997  704.0887  \n4998  667.7893  \n4999  623.1073  \n\n[5000 rows x 8 columns]",
      "text/html": "<div>\n<style scoped>\n    .dataframe tbody tr th:only-of-type {\n        vertical-align: middle;\n    }\n\n    .dataframe tbody tr th {\n        vertical-align: top;\n    }\n\n    .dataframe thead th {\n        text-align: right;\n    }\n</style>\n<table border=\"1\" class=\"dataframe\">\n  <thead>\n    <tr style=\"text-align: right;\">\n      <th></th>\n      <th>t</th>\n      <th>Ec</th>\n      <th>Ep</th>\n      <th>E_tot</th>\n      <th>W</th>\n      <th>T</th>\n      <th>P_corr</th>\n      <th>F2</th>\n    </tr>\n  </thead>\n  <tbody>\n    <tr>\n      <th>0</th>\n      <td>0.01</td>\n      <td>1016.1460</td>\n      <td>-1681.177</td>\n      <td>-665.0314</td>\n      <td>-1008.6110</td>\n      <td>1.354861</td>\n      <td>0.307718</td>\n      <td>549.9444</td>\n    </tr>\n    <tr>\n      <th>1</th>\n      <td>0.02</td>\n      <td>1009.4510</td>\n      <td>-1674.483</td>\n      <td>-665.0322</td>\n      <td>-853.3452</td>\n      <td>1.345935</td>\n      <td>0.355010</td>\n      <td>573.0316</td>\n    </tr>\n    <tr>\n      <th>2</th>\n      <td>0.03</td>\n      <td>1002.6610</td>\n      <td>-1667.683</td>\n      <td>-665.0224</td>\n      <td>-705.5814</td>\n      <td>1.336881</td>\n      <td>0.399738</td>\n      <td>606.1855</td>\n    </tr>\n    <tr>\n      <th>3</th>\n      <td>0.04</td>\n      <td>997.5940</td>\n      <td>-1662.624</td>\n      <td>-665.0296</td>\n      <td>-592.0951</td>\n      <td>1.330125</td>\n      <td>0.434189</td>\n      <td>639.9411</td>\n    </tr>\n    <tr>\n      <th>4</th>\n      <td>0.05</td>\n      <td>996.7793</td>\n      <td>-1661.809</td>\n      <td>-665.0293</td>\n      <td>-546.2595</td>\n      <td>1.329039</td>\n      <td>0.448924</td>\n      <td>633.7288</td>\n    </tr>\n    <tr>\n      <th>...</th>\n      <td>...</td>\n      <td>...</td>\n      <td>...</td>\n      <td>...</td>\n      <td>...</td>\n      <td>...</td>\n      <td>...</td>\n      <td>...</td>\n    </tr>\n    <tr>\n      <th>4995</th>\n      <td>49.96</td>\n      <td>1034.5940</td>\n      <td>-1699.641</td>\n      <td>-665.0471</td>\n      <td>-1180.0290</td>\n      <td>1.379459</td>\n      <td>0.262877</td>\n      <td>562.2455</td>\n    </tr>\n    <tr>\n      <th>4996</th>\n      <td>49.97</td>\n      <td>1022.1360</td>\n      <td>-1687.186</td>\n      <td>-665.0498</td>\n      <td>-1002.7700</td>\n      <td>1.362848</td>\n      <td>0.313659</td>\n      <td>662.9936</td>\n    </tr>\n    <tr>\n      <th>4997</th>\n      <td>49.98</td>\n      <td>1014.4410</td>\n      <td>-1679.493</td>\n      <td>-665.0521</td>\n      <td>-903.5724</td>\n      <td>1.352587</td>\n      <td>0.341594</td>\n      <td>704.0887</td>\n    </tr>\n    <tr>\n      <th>4998</th>\n      <td>49.99</td>\n      <td>1014.1660</td>\n      <td>-1679.220</td>\n      <td>-665.0537</td>\n      <td>-923.7901</td>\n      <td>1.352222</td>\n      <td>0.334672</td>\n      <td>667.7893</td>\n    </tr>\n    <tr>\n      <th>4999</th>\n      <td>50.00</td>\n      <td>1018.7250</td>\n      <td>-1683.778</td>\n      <td>-665.0532</td>\n      <td>-1030.0900</td>\n      <td>1.358299</td>\n      <td>0.302278</td>\n      <td>623.1073</td>\n    </tr>\n  </tbody>\n</table>\n<p>5000 rows × 8 columns</p>\n</div>"
     },
     "metadata": {}
    }
   ]
  },
  {
   "metadata": {
    "trusted": false
   },
   "id": "f8b354cb-9290-4a52-bc71-e827d4e68f6f",
   "cell_type": "code",
   "source": "codigos=[\"110-160\",\"160-210\",\"110-160\",\"210-260\",\"260-310\",\"310-360\",\"360-410\",\"410-460\",\"460-510\",\"510-560\"] #Tiempo de inicio de simulacion-Tiempo de fin de simulacion\n\nDFS_vx=[]\nDFS_vy=[]\nDFS_vz=[]\n\nDATOS=[]\n\nfor codigo in codigos:\n    DFS_vx.append(pd.read_csv(\"../resultados/dinamica/Simulacion_\"+ codigo + \"/velocidad_x.txt\", sep=r\"\\s+\", header=None))\n    DFS_vy.append(pd.read_csv(\"../resultados/dinamica/Simulacion_\"+ codigo + \"/velocidad_y.txt\", sep=r\"\\s+\", header=None))\n    DFS_vz.append(pd.read_csv(\"../resultados/dinamica/Simulacion_\"+ codigo + \"/velocidad_z.txt\", sep=r\"\\s+\", header=None))\n    DATOS.append(pd.read_csv(\"../resultados/dinamica/Simulacion_\"+ codigo + \"/gname2.txt\",skiprows=1, sep=r\"\\s+\", header=None, names=['t','Ec','Ep','E_tot','W','T','P_corr','F2']))",
   "execution_count": 5,
   "outputs": [
    {
     "output_type": "error",
     "ename": "FileNotFoundError",
     "evalue": "[Errno 2] No such file or directory: '../resultados/dinamica/Simulacion_160-210/velocidad_x.txt'",
     "traceback": [
      "\u001b[0;31m---------------------------------------------------------------------------\u001b[0m",
      "\u001b[0;31mFileNotFoundError\u001b[0m                         Traceback (most recent call last)",
      "\u001b[0;32m<ipython-input-5-1dfba4f736b5>\u001b[0m in \u001b[0;36m<module>\u001b[0;34m\u001b[0m\n\u001b[1;32m      8\u001b[0m \u001b[0;34m\u001b[0m\u001b[0m\n\u001b[1;32m      9\u001b[0m \u001b[0;32mfor\u001b[0m \u001b[0mcodigo\u001b[0m \u001b[0;32min\u001b[0m \u001b[0mcodigos\u001b[0m\u001b[0;34m:\u001b[0m\u001b[0;34m\u001b[0m\u001b[0;34m\u001b[0m\u001b[0m\n\u001b[0;32m---> 10\u001b[0;31m     \u001b[0mDFS_vx\u001b[0m\u001b[0;34m.\u001b[0m\u001b[0mappend\u001b[0m\u001b[0;34m(\u001b[0m\u001b[0mpd\u001b[0m\u001b[0;34m.\u001b[0m\u001b[0mread_csv\u001b[0m\u001b[0;34m(\u001b[0m\u001b[0;34m\"../resultados/dinamica/Simulacion_\"\u001b[0m\u001b[0;34m+\u001b[0m \u001b[0mcodigo\u001b[0m \u001b[0;34m+\u001b[0m \u001b[0;34m\"/velocidad_x.txt\"\u001b[0m\u001b[0;34m,\u001b[0m \u001b[0msep\u001b[0m\u001b[0;34m=\u001b[0m\u001b[0;34mr\"\\s+\"\u001b[0m\u001b[0;34m,\u001b[0m \u001b[0mheader\u001b[0m\u001b[0;34m=\u001b[0m\u001b[0;32mNone\u001b[0m\u001b[0;34m)\u001b[0m\u001b[0;34m)\u001b[0m\u001b[0;34m\u001b[0m\u001b[0;34m\u001b[0m\u001b[0m\n\u001b[0m\u001b[1;32m     11\u001b[0m     \u001b[0mDFS_vy\u001b[0m\u001b[0;34m.\u001b[0m\u001b[0mappend\u001b[0m\u001b[0;34m(\u001b[0m\u001b[0mpd\u001b[0m\u001b[0;34m.\u001b[0m\u001b[0mread_csv\u001b[0m\u001b[0;34m(\u001b[0m\u001b[0;34m\"../resultados/dinamica/Simulacion_\"\u001b[0m\u001b[0;34m+\u001b[0m \u001b[0mcodigo\u001b[0m \u001b[0;34m+\u001b[0m \u001b[0;34m\"/velocidad_y.txt\"\u001b[0m\u001b[0;34m,\u001b[0m \u001b[0msep\u001b[0m\u001b[0;34m=\u001b[0m\u001b[0;34mr\"\\s+\"\u001b[0m\u001b[0;34m,\u001b[0m \u001b[0mheader\u001b[0m\u001b[0;34m=\u001b[0m\u001b[0;32mNone\u001b[0m\u001b[0;34m)\u001b[0m\u001b[0;34m)\u001b[0m\u001b[0;34m\u001b[0m\u001b[0;34m\u001b[0m\u001b[0m\n\u001b[1;32m     12\u001b[0m     \u001b[0mDFS_vz\u001b[0m\u001b[0;34m.\u001b[0m\u001b[0mappend\u001b[0m\u001b[0;34m(\u001b[0m\u001b[0mpd\u001b[0m\u001b[0;34m.\u001b[0m\u001b[0mread_csv\u001b[0m\u001b[0;34m(\u001b[0m\u001b[0;34m\"../resultados/dinamica/Simulacion_\"\u001b[0m\u001b[0;34m+\u001b[0m \u001b[0mcodigo\u001b[0m \u001b[0;34m+\u001b[0m \u001b[0;34m\"/velocidad_z.txt\"\u001b[0m\u001b[0;34m,\u001b[0m \u001b[0msep\u001b[0m\u001b[0;34m=\u001b[0m\u001b[0;34mr\"\\s+\"\u001b[0m\u001b[0;34m,\u001b[0m \u001b[0mheader\u001b[0m\u001b[0;34m=\u001b[0m\u001b[0;32mNone\u001b[0m\u001b[0;34m)\u001b[0m\u001b[0;34m)\u001b[0m\u001b[0;34m\u001b[0m\u001b[0;34m\u001b[0m\u001b[0m\n",
      "\u001b[0;32m/private/var/containers/Bundle/Application/A8BB6C66-FABA-47AC-B960-71A53E5E3D40/Juno.app/pinned-packages/pandas/util/_decorators.py\u001b[0m in \u001b[0;36mwrapper\u001b[0;34m(*args, **kwargs)\u001b[0m\n\u001b[1;32m    209\u001b[0m                 \u001b[0;32melse\u001b[0m\u001b[0;34m:\u001b[0m\u001b[0;34m\u001b[0m\u001b[0;34m\u001b[0m\u001b[0m\n\u001b[1;32m    210\u001b[0m                     \u001b[0mkwargs\u001b[0m\u001b[0;34m[\u001b[0m\u001b[0mnew_arg_name\u001b[0m\u001b[0;34m]\u001b[0m \u001b[0;34m=\u001b[0m \u001b[0mnew_arg_value\u001b[0m\u001b[0;34m\u001b[0m\u001b[0;34m\u001b[0m\u001b[0m\n\u001b[0;32m--> 211\u001b[0;31m             \u001b[0;32mreturn\u001b[0m \u001b[0mfunc\u001b[0m\u001b[0;34m(\u001b[0m\u001b[0;34m*\u001b[0m\u001b[0margs\u001b[0m\u001b[0;34m,\u001b[0m \u001b[0;34m**\u001b[0m\u001b[0mkwargs\u001b[0m\u001b[0;34m)\u001b[0m\u001b[0;34m\u001b[0m\u001b[0;34m\u001b[0m\u001b[0m\n\u001b[0m\u001b[1;32m    212\u001b[0m \u001b[0;34m\u001b[0m\u001b[0m\n\u001b[1;32m    213\u001b[0m         \u001b[0;32mreturn\u001b[0m \u001b[0mcast\u001b[0m\u001b[0;34m(\u001b[0m\u001b[0mF\u001b[0m\u001b[0;34m,\u001b[0m \u001b[0mwrapper\u001b[0m\u001b[0;34m)\u001b[0m\u001b[0;34m\u001b[0m\u001b[0;34m\u001b[0m\u001b[0m\n",
      "\u001b[0;32m/private/var/containers/Bundle/Application/A8BB6C66-FABA-47AC-B960-71A53E5E3D40/Juno.app/pinned-packages/pandas/util/_decorators.py\u001b[0m in \u001b[0;36mwrapper\u001b[0;34m(*args, **kwargs)\u001b[0m\n\u001b[1;32m    329\u001b[0m                     \u001b[0mstacklevel\u001b[0m\u001b[0;34m=\u001b[0m\u001b[0mfind_stack_level\u001b[0m\u001b[0;34m(\u001b[0m\u001b[0;34m)\u001b[0m\u001b[0;34m,\u001b[0m\u001b[0;34m\u001b[0m\u001b[0;34m\u001b[0m\u001b[0m\n\u001b[1;32m    330\u001b[0m                 )\n\u001b[0;32m--> 331\u001b[0;31m             \u001b[0;32mreturn\u001b[0m \u001b[0mfunc\u001b[0m\u001b[0;34m(\u001b[0m\u001b[0;34m*\u001b[0m\u001b[0margs\u001b[0m\u001b[0;34m,\u001b[0m \u001b[0;34m**\u001b[0m\u001b[0mkwargs\u001b[0m\u001b[0;34m)\u001b[0m\u001b[0;34m\u001b[0m\u001b[0;34m\u001b[0m\u001b[0m\n\u001b[0m\u001b[1;32m    332\u001b[0m \u001b[0;34m\u001b[0m\u001b[0m\n\u001b[1;32m    333\u001b[0m         \u001b[0;31m# error: \"Callable[[VarArg(Any), KwArg(Any)], Any]\" has no\u001b[0m\u001b[0;34m\u001b[0m\u001b[0;34m\u001b[0m\u001b[0m\n",
      "\u001b[0;32m/private/var/containers/Bundle/Application/A8BB6C66-FABA-47AC-B960-71A53E5E3D40/Juno.app/pinned-packages/pandas/io/parsers/readers.py\u001b[0m in \u001b[0;36mread_csv\u001b[0;34m(filepath_or_buffer, sep, delimiter, header, names, index_col, usecols, squeeze, prefix, mangle_dupe_cols, dtype, engine, converters, true_values, false_values, skipinitialspace, skiprows, skipfooter, nrows, na_values, keep_default_na, na_filter, verbose, skip_blank_lines, parse_dates, infer_datetime_format, keep_date_col, date_parser, dayfirst, cache_dates, iterator, chunksize, compression, thousands, decimal, lineterminator, quotechar, quoting, doublequote, escapechar, comment, encoding, encoding_errors, dialect, error_bad_lines, warn_bad_lines, on_bad_lines, delim_whitespace, low_memory, memory_map, float_precision, storage_options)\u001b[0m\n\u001b[1;32m    948\u001b[0m     \u001b[0mkwds\u001b[0m\u001b[0;34m.\u001b[0m\u001b[0mupdate\u001b[0m\u001b[0;34m(\u001b[0m\u001b[0mkwds_defaults\u001b[0m\u001b[0;34m)\u001b[0m\u001b[0;34m\u001b[0m\u001b[0;34m\u001b[0m\u001b[0m\n\u001b[1;32m    949\u001b[0m \u001b[0;34m\u001b[0m\u001b[0m\n\u001b[0;32m--> 950\u001b[0;31m     \u001b[0;32mreturn\u001b[0m \u001b[0m_read\u001b[0m\u001b[0;34m(\u001b[0m\u001b[0mfilepath_or_buffer\u001b[0m\u001b[0;34m,\u001b[0m \u001b[0mkwds\u001b[0m\u001b[0;34m)\u001b[0m\u001b[0;34m\u001b[0m\u001b[0;34m\u001b[0m\u001b[0m\n\u001b[0m\u001b[1;32m    951\u001b[0m \u001b[0;34m\u001b[0m\u001b[0m\n\u001b[1;32m    952\u001b[0m \u001b[0;34m\u001b[0m\u001b[0m\n",
      "\u001b[0;32m/private/var/containers/Bundle/Application/A8BB6C66-FABA-47AC-B960-71A53E5E3D40/Juno.app/pinned-packages/pandas/io/parsers/readers.py\u001b[0m in \u001b[0;36m_read\u001b[0;34m(filepath_or_buffer, kwds)\u001b[0m\n\u001b[1;32m    603\u001b[0m \u001b[0;34m\u001b[0m\u001b[0m\n\u001b[1;32m    604\u001b[0m     \u001b[0;31m# Create the parser.\u001b[0m\u001b[0;34m\u001b[0m\u001b[0;34m\u001b[0m\u001b[0m\n\u001b[0;32m--> 605\u001b[0;31m     \u001b[0mparser\u001b[0m \u001b[0;34m=\u001b[0m \u001b[0mTextFileReader\u001b[0m\u001b[0;34m(\u001b[0m\u001b[0mfilepath_or_buffer\u001b[0m\u001b[0;34m,\u001b[0m \u001b[0;34m**\u001b[0m\u001b[0mkwds\u001b[0m\u001b[0;34m)\u001b[0m\u001b[0;34m\u001b[0m\u001b[0;34m\u001b[0m\u001b[0m\n\u001b[0m\u001b[1;32m    606\u001b[0m \u001b[0;34m\u001b[0m\u001b[0m\n\u001b[1;32m    607\u001b[0m     \u001b[0;32mif\u001b[0m \u001b[0mchunksize\u001b[0m \u001b[0;32mor\u001b[0m \u001b[0miterator\u001b[0m\u001b[0;34m:\u001b[0m\u001b[0;34m\u001b[0m\u001b[0;34m\u001b[0m\u001b[0m\n",
      "\u001b[0;32m/private/var/containers/Bundle/Application/A8BB6C66-FABA-47AC-B960-71A53E5E3D40/Juno.app/pinned-packages/pandas/io/parsers/readers.py\u001b[0m in \u001b[0;36m__init__\u001b[0;34m(self, f, engine, **kwds)\u001b[0m\n\u001b[1;32m   1440\u001b[0m \u001b[0;34m\u001b[0m\u001b[0m\n\u001b[1;32m   1441\u001b[0m         \u001b[0mself\u001b[0m\u001b[0;34m.\u001b[0m\u001b[0mhandles\u001b[0m\u001b[0;34m:\u001b[0m \u001b[0mIOHandles\u001b[0m \u001b[0;34m|\u001b[0m \u001b[0;32mNone\u001b[0m \u001b[0;34m=\u001b[0m \u001b[0;32mNone\u001b[0m\u001b[0;34m\u001b[0m\u001b[0;34m\u001b[0m\u001b[0m\n\u001b[0;32m-> 1442\u001b[0;31m         \u001b[0mself\u001b[0m\u001b[0;34m.\u001b[0m\u001b[0m_engine\u001b[0m \u001b[0;34m=\u001b[0m \u001b[0mself\u001b[0m\u001b[0;34m.\u001b[0m\u001b[0m_make_engine\u001b[0m\u001b[0;34m(\u001b[0m\u001b[0mf\u001b[0m\u001b[0;34m,\u001b[0m \u001b[0mself\u001b[0m\u001b[0;34m.\u001b[0m\u001b[0mengine\u001b[0m\u001b[0;34m)\u001b[0m\u001b[0;34m\u001b[0m\u001b[0;34m\u001b[0m\u001b[0m\n\u001b[0m\u001b[1;32m   1443\u001b[0m \u001b[0;34m\u001b[0m\u001b[0m\n\u001b[1;32m   1444\u001b[0m     \u001b[0;32mdef\u001b[0m \u001b[0mclose\u001b[0m\u001b[0;34m(\u001b[0m\u001b[0mself\u001b[0m\u001b[0;34m)\u001b[0m \u001b[0;34m->\u001b[0m \u001b[0;32mNone\u001b[0m\u001b[0;34m:\u001b[0m\u001b[0;34m\u001b[0m\u001b[0;34m\u001b[0m\u001b[0m\n",
      "\u001b[0;32m/private/var/containers/Bundle/Application/A8BB6C66-FABA-47AC-B960-71A53E5E3D40/Juno.app/pinned-packages/pandas/io/parsers/readers.py\u001b[0m in \u001b[0;36m_make_engine\u001b[0;34m(self, f, engine)\u001b[0m\n\u001b[1;32m   1733\u001b[0m                 \u001b[0;32mif\u001b[0m \u001b[0;34m\"b\"\u001b[0m \u001b[0;32mnot\u001b[0m \u001b[0;32min\u001b[0m \u001b[0mmode\u001b[0m\u001b[0;34m:\u001b[0m\u001b[0;34m\u001b[0m\u001b[0;34m\u001b[0m\u001b[0m\n\u001b[1;32m   1734\u001b[0m                     \u001b[0mmode\u001b[0m \u001b[0;34m+=\u001b[0m \u001b[0;34m\"b\"\u001b[0m\u001b[0;34m\u001b[0m\u001b[0;34m\u001b[0m\u001b[0m\n\u001b[0;32m-> 1735\u001b[0;31m             self.handles = get_handle(\n\u001b[0m\u001b[1;32m   1736\u001b[0m                 \u001b[0mf\u001b[0m\u001b[0;34m,\u001b[0m\u001b[0;34m\u001b[0m\u001b[0;34m\u001b[0m\u001b[0m\n\u001b[1;32m   1737\u001b[0m                 \u001b[0mmode\u001b[0m\u001b[0;34m,\u001b[0m\u001b[0;34m\u001b[0m\u001b[0;34m\u001b[0m\u001b[0m\n",
      "\u001b[0;32m/private/var/containers/Bundle/Application/A8BB6C66-FABA-47AC-B960-71A53E5E3D40/Juno.app/pinned-packages/pandas/io/common.py\u001b[0m in \u001b[0;36mget_handle\u001b[0;34m(path_or_buf, mode, encoding, compression, memory_map, is_text, errors, storage_options)\u001b[0m\n\u001b[1;32m    854\u001b[0m         \u001b[0;32mif\u001b[0m \u001b[0mioargs\u001b[0m\u001b[0;34m.\u001b[0m\u001b[0mencoding\u001b[0m \u001b[0;32mand\u001b[0m \u001b[0;34m\"b\"\u001b[0m \u001b[0;32mnot\u001b[0m \u001b[0;32min\u001b[0m \u001b[0mioargs\u001b[0m\u001b[0;34m.\u001b[0m\u001b[0mmode\u001b[0m\u001b[0;34m:\u001b[0m\u001b[0;34m\u001b[0m\u001b[0;34m\u001b[0m\u001b[0m\n\u001b[1;32m    855\u001b[0m             \u001b[0;31m# Encoding\u001b[0m\u001b[0;34m\u001b[0m\u001b[0;34m\u001b[0m\u001b[0m\n\u001b[0;32m--> 856\u001b[0;31m             handle = open(\n\u001b[0m\u001b[1;32m    857\u001b[0m                 \u001b[0mhandle\u001b[0m\u001b[0;34m,\u001b[0m\u001b[0;34m\u001b[0m\u001b[0;34m\u001b[0m\u001b[0m\n\u001b[1;32m    858\u001b[0m                 \u001b[0mioargs\u001b[0m\u001b[0;34m.\u001b[0m\u001b[0mmode\u001b[0m\u001b[0;34m,\u001b[0m\u001b[0;34m\u001b[0m\u001b[0;34m\u001b[0m\u001b[0m\n",
      "\u001b[0;31mFileNotFoundError\u001b[0m: [Errno 2] No such file or directory: '../resultados/dinamica/Simulacion_160-210/velocidad_x.txt'"
     ]
    }
   ]
  },
  {
   "metadata": {
    "trusted": false
   },
   "id": "bffcb4dd-5e1c-4272-a9d9-07b55e1bbcd4",
   "cell_type": "code",
   "source": "tiempos=[df.t.to_numpy() for df in DATOS]\n\ntiempos[0]",
   "execution_count": 1,
   "outputs": [
    {
     "output_type": "error",
     "ename": "NameError",
     "evalue": "name 'DATOS' is not defined",
     "traceback": [
      "\u001b[0;31m---------------------------------------------------------------------------\u001b[0m",
      "\u001b[0;31mNameError\u001b[0m                                 Traceback (most recent call last)",
      "\u001b[0;32m<ipython-input-1-a98934725ef6>\u001b[0m in \u001b[0;36m<module>\u001b[0;34m\u001b[0m\n\u001b[0;32m----> 1\u001b[0;31m \u001b[0mtiempos\u001b[0m\u001b[0;34m=\u001b[0m\u001b[0;34m[\u001b[0m\u001b[0mdf\u001b[0m\u001b[0;34m.\u001b[0m\u001b[0mt\u001b[0m\u001b[0;34m.\u001b[0m\u001b[0mto_numpy\u001b[0m\u001b[0;34m(\u001b[0m\u001b[0;34m)\u001b[0m \u001b[0;32mfor\u001b[0m \u001b[0mdf\u001b[0m \u001b[0;32min\u001b[0m \u001b[0mDATOS\u001b[0m\u001b[0;34m]\u001b[0m\u001b[0;34m\u001b[0m\u001b[0;34m\u001b[0m\u001b[0m\n\u001b[0m\u001b[1;32m      2\u001b[0m \u001b[0;34m\u001b[0m\u001b[0m\n\u001b[1;32m      3\u001b[0m \u001b[0mtiempos\u001b[0m\u001b[0;34m[\u001b[0m\u001b[0;36m0\u001b[0m\u001b[0;34m]\u001b[0m\u001b[0;34m\u001b[0m\u001b[0;34m\u001b[0m\u001b[0m\n",
      "\u001b[0;31mNameError\u001b[0m: name 'DATOS' is not defined"
     ]
    }
   ]
  },
  {
   "metadata": {},
   "id": "78741853-fc42-4c6f-bd03-aa78688c6744",
   "cell_type": "markdown",
   "source": "### Formato de datos importados"
  },
  {
   "metadata": {},
   "id": "710d9606-7a64-4c9f-acc4-a0c62ac7a642",
   "cell_type": "markdown",
   "source": "- En las columnas tenemos las particulas de la caja etiquetadas del 0 al 499\n- En las filas tenemos instantes sucesivos de tiempo grabados de nuestra simulacion."
  },
  {
   "metadata": {
    "trusted": false
   },
   "id": "d075f6ec-be69-4d58-889a-ef59b2c32149",
   "cell_type": "code",
   "source": "DATOS[-1].iloc[:,1:].agg([\"mean\",\"std\"])\nDATOS[-1].max()",
   "execution_count": 21,
   "outputs": [
    {
     "data": {
      "text/plain": "t           50.000000\nEc        1089.322000\nEp       -1630.208000\nE_tot     -664.940600\nW          -69.628890\nT            1.452430\nP_corr       0.594222\nF2         960.669600\ndtype: float64"
     },
     "execution_count": 21,
     "metadata": {},
     "output_type": "execute_result"
    }
   ]
  },
  {
   "metadata": {
    "trusted": false
   },
   "id": "cbbd2ea1-e8fc-443e-9d91-3ae228a86b84",
   "cell_type": "code",
   "source": "F2s_mean=[]\nF2s_std=[]\n\nEcs_mean=[]\nEcs_std=[]\n\nPs_mean=[]\nPs_std=[]\n\n\nfor df in DATOS:\n    F2s_mean.append(df.iloc[:,1:].agg([\"mean\",\"std\"]).loc[\"mean\",\"F2\"])\n    F2s_mean.append(df.iloc[:,1:].agg([\"mean\",\"std\"]).loc[\"std\",\"F2\"])\n\n    Ecs_mean.append(df.iloc[:,1:].agg([\"mean\",\"std\"]).loc[\"mean\",\"Ec\"])\n    Ecs_std.append(df.iloc[:,1:].agg([\"mean\",\"std\"]).loc[\"std\",\"Ec\"])\n\n    Ps_mean.append(df.iloc[:,1:].agg([\"mean\",\"std\"]).loc[\"mean\",\"P_corr\"])\n    Ps_std.append(df.iloc[:,1:].agg([\"mean\",\"std\"]).loc[\"std\",\"P_corr\"])\n\n\nF2s_mean=np.array(F2s_mean)\nF2s_std=np.array(F2s_mean)\n\nEcs_mean=np.array(Ecs_mean)\nEcs_std=np.array(Ecs_std)\n\nPs_mean=np.array(Ps_mean)\nPs_std=np.array(Ps_std)\n\n\n\"\"\"\nprint(\"Ec=\",)\n\nprint(F2s_mean)\nprint(F2s_std)\nprint(Ecs_mean)\nprint(Ecs_std)\nprint(Ps_mean)\nprint(Ps_std)\n\n\"\"\"\n\n# Media global = media de las medias\nF2_mean = np.mean(F2s_mean)\nEc_mean = np.mean(Ecs_mean)\nP_mean  = np.mean(Ps_mean)\n\n# Error estándar de la media global --> ¿Deberia tener en cuenta las std de cada bloque simulado?\nF2_err = np.std(F2s_mean, ddof=1) / np.sqrt(len(F2s_mean))\nEc_err = np.std(Ecs_mean, ddof=1) / np.sqrt(len(Ecs_mean))\nP_err  = np.std(Ps_mean, ddof=1) / np.sqrt(len(Ps_mean))\n\nprint(f\"<F²> = {F2_mean:.6f} ± {F2_err:.6f}\")\nprint(f\"<Ec> = {Ec_mean:.6f} ± {Ec_err:.6f}\")\nprint(f\"<P>  = {P_mean:.6f} ± {P_err:.6f}\")",
   "execution_count": 22,
   "outputs": [
    {
     "name": "stdout",
     "output_type": "stream",
     "text": "<F²> = 326.687683 ± 56.087657\n<Ec> = 1023.630884 ± 0.694273\n<P>  = 0.232922 ± 0.002128\n"
    }
   ]
  },
  {
   "metadata": {
    "trusted": false
   },
   "id": "70f845c9-9945-4093-80b1-464cc48b13d5",
   "cell_type": "code",
   "source": "",
   "execution_count": null,
   "outputs": []
  },
  {
   "metadata": {
    "trusted": false
   },
   "id": "817e276a-87ab-4cd5-8026-463364c5deca",
   "cell_type": "code",
   "source": "",
   "execution_count": null,
   "outputs": []
  }
 ],
 "metadata": {
  "kernelspec": {
   "name": "python3",
   "display_name": "Python 3",
   "language": "python"
  },
  "language_info": {
   "name": "python",
   "version": "3.10.4",
   "mimetype": "text/x-python",
   "codemirror_mode": {
    "name": "ipython",
    "version": 3
   },
   "pygments_lexer": "ipython3",
   "nbconvert_exporter": "python",
   "file_extension": ".py"
  }
 },
 "nbformat": 4,
 "nbformat_minor": 5
}