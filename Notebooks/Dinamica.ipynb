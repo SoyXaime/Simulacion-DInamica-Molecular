{
 "cells": [
  {
   "cell_type": "markdown",
   "id": "f5f4cdf8-a715-4243-a5e7-4dac369559fc",
   "metadata": {},
   "source": [
    "# Analisis de propeidades estaticas\n",
    "- Energía cinética media -> Temperatura media\n",
    "- Fuerza cuadratica media\n",
    "- Presión\n",
    "- ..."
   ]
  },
  {
   "cell_type": "markdown",
   "id": "2efead94-6539-459e-a945-392ea0af8735",
   "metadata": {},
   "source": [
    "## Importación de librerías y lectura de datos"
   ]
  },
  {
   "cell_type": "code",
   "execution_count": 14,
   "id": "3ca829a6-de51-4742-9b37-1f04a6868744",
   "metadata": {},
   "outputs": [],
   "source": [
    "import numpy as np\n",
    "import pandas as pd\n",
    "import matplotlib.pyplot as plt"
   ]
  },
  {
   "cell_type": "code",
   "execution_count": 17,
   "id": "f8b354cb-9290-4a52-bc71-e827d4e68f6f",
   "metadata": {},
   "outputs": [],
   "source": [
    "codigos=[\"110-160\",\"160-210\",\"110-160\",\"210-260\",\"260-310\",\"310-360\",\"360-410\",\"410-460\",\"460-510\",\"510-560\"] #Tiempo de inicio de simulacion-Tiempo de fin de simulacion\n",
    "\n",
    "DFS_vx=[]\n",
    "DFS_vy=[]\n",
    "DFS_vz=[]\n",
    "\n",
    "DATOS=[]\n",
    "\n",
    "for codigo in codigos:\n",
    "    DFS_vx.append(pd.read_csv(\"../resultados/dinamica/Simulacion_\"+ codigo + \"/velocidad_x.txt\", sep=r\"\\s+\", header=None))\n",
    "    DFS_vy.append(pd.read_csv(\"../resultados/dinamica/Simulacion_\"+ codigo + \"/velocidad_y.txt\", sep=r\"\\s+\", header=None))\n",
    "    DFS_vz.append(pd.read_csv(\"../resultados/dinamica/Simulacion_\"+ codigo + \"/velocidad_z.txt\", sep=r\"\\s+\", header=None))\n",
    "    DATOS.append(pd.read_csv(\"../resultados/dinamica/Simulacion_\"+ codigo + \"/gname2.txt\",skiprows=1, sep=r\"\\s+\", header=None, names=['t','Ec','Ep','E_tot','W','T','P_corr','F2']))"
   ]
  },
  {
   "cell_type": "code",
   "execution_count": 18,
   "id": "bffcb4dd-5e1c-4272-a9d9-07b55e1bbcd4",
   "metadata": {},
   "outputs": [
    {
     "data": {
      "text/plain": [
       "array([1.000e-02, 2.000e-02, 3.000e-02, ..., 4.998e+01, 4.999e+01,\n",
       "       5.000e+01], shape=(5000,))"
      ]
     },
     "execution_count": 18,
     "metadata": {},
     "output_type": "execute_result"
    }
   ],
   "source": [
    "tiempos=[df.t.to_numpy() for df in DATOS]\n",
    "\n",
    "tiempos[0]"
   ]
  },
  {
   "cell_type": "markdown",
   "id": "78741853-fc42-4c6f-bd03-aa78688c6744",
   "metadata": {},
   "source": [
    "### Formato de datos importados"
   ]
  },
  {
   "cell_type": "markdown",
   "id": "710d9606-7a64-4c9f-acc4-a0c62ac7a642",
   "metadata": {},
   "source": [
    "- En las columnas tenemos las particulas de la caja etiquetadas del 0 al 499\n",
    "- En las filas tenemos instantes sucesivos de tiempo grabados de nuestra simulacion."
   ]
  },
  {
   "cell_type": "code",
   "execution_count": 21,
   "id": "d075f6ec-be69-4d58-889a-ef59b2c32149",
   "metadata": {},
   "outputs": [
    {
     "data": {
      "text/plain": [
       "t           50.000000\n",
       "Ec        1089.322000\n",
       "Ep       -1630.208000\n",
       "E_tot     -664.940600\n",
       "W          -69.628890\n",
       "T            1.452430\n",
       "P_corr       0.594222\n",
       "F2         960.669600\n",
       "dtype: float64"
      ]
     },
     "execution_count": 21,
     "metadata": {},
     "output_type": "execute_result"
    }
   ],
   "source": [
    "DATOS[-1].iloc[:,1:].agg([\"mean\",\"std\"])\n",
    "DATOS[-1].max()"
   ]
  },
  {
   "cell_type": "code",
   "execution_count": 22,
   "id": "cbbd2ea1-e8fc-443e-9d91-3ae228a86b84",
   "metadata": {},
   "outputs": [
    {
     "name": "stdout",
     "output_type": "stream",
     "text": [
      "<F²> = 326.687683 ± 56.087657\n",
      "<Ec> = 1023.630884 ± 0.694273\n",
      "<P>  = 0.232922 ± 0.002128\n"
     ]
    }
   ],
   "source": [
    "F2s_mean=[]\n",
    "F2s_std=[]\n",
    "\n",
    "Ecs_mean=[]\n",
    "Ecs_std=[]\n",
    "\n",
    "Ps_mean=[]\n",
    "Ps_std=[]\n",
    "\n",
    "\n",
    "for df in DATOS:\n",
    "    F2s_mean.append(df.iloc[:,1:].agg([\"mean\",\"std\"]).loc[\"mean\",\"F2\"])\n",
    "    F2s_mean.append(df.iloc[:,1:].agg([\"mean\",\"std\"]).loc[\"std\",\"F2\"])\n",
    "\n",
    "    Ecs_mean.append(df.iloc[:,1:].agg([\"mean\",\"std\"]).loc[\"mean\",\"Ec\"])\n",
    "    Ecs_std.append(df.iloc[:,1:].agg([\"mean\",\"std\"]).loc[\"std\",\"Ec\"])\n",
    "\n",
    "    Ps_mean.append(df.iloc[:,1:].agg([\"mean\",\"std\"]).loc[\"mean\",\"P_corr\"])\n",
    "    Ps_std.append(df.iloc[:,1:].agg([\"mean\",\"std\"]).loc[\"std\",\"P_corr\"])\n",
    "\n",
    "\n",
    "F2s_mean=np.array(F2s_mean)\n",
    "F2s_std=np.array(F2s_mean)\n",
    "\n",
    "Ecs_mean=np.array(Ecs_mean)\n",
    "Ecs_std=np.array(Ecs_std)\n",
    "\n",
    "Ps_mean=np.array(Ps_mean)\n",
    "Ps_std=np.array(Ps_std)\n",
    "\n",
    "\n",
    "\"\"\"\n",
    "print(\"Ec=\",)\n",
    "\n",
    "print(F2s_mean)\n",
    "print(F2s_std)\n",
    "print(Ecs_mean)\n",
    "print(Ecs_std)\n",
    "print(Ps_mean)\n",
    "print(Ps_std)\n",
    "\n",
    "\"\"\"\n",
    "\n",
    "# Media global = media de las medias\n",
    "F2_mean = np.mean(F2s_mean)\n",
    "Ec_mean = np.mean(Ecs_mean)\n",
    "P_mean  = np.mean(Ps_mean)\n",
    "\n",
    "# Error estándar de la media global --> ¿Deberia tener en cuenta las std de cada bloque simulado?\n",
    "F2_err = np.std(F2s_mean, ddof=1) / np.sqrt(len(F2s_mean))\n",
    "Ec_err = np.std(Ecs_mean, ddof=1) / np.sqrt(len(Ecs_mean))\n",
    "P_err  = np.std(Ps_mean, ddof=1) / np.sqrt(len(Ps_mean))\n",
    "\n",
    "print(f\"<F²> = {F2_mean:.6f} ± {F2_err:.6f}\")\n",
    "print(f\"<Ec> = {Ec_mean:.6f} ± {Ec_err:.6f}\")\n",
    "print(f\"<P>  = {P_mean:.6f} ± {P_err:.6f}\")"
   ]
  },
  {
   "cell_type": "code",
   "execution_count": null,
   "id": "70f845c9-9945-4093-80b1-464cc48b13d5",
   "metadata": {},
   "outputs": [],
   "source": []
  },
  {
   "cell_type": "code",
   "execution_count": null,
   "id": "817e276a-87ab-4cd5-8026-463364c5deca",
   "metadata": {},
   "outputs": [],
   "source": []
  }
 ],
 "metadata": {
  "kernelspec": {
   "display_name": "Python [conda env:TFG]",
   "language": "python",
   "name": "conda-env-TFG-py"
  },
  "language_info": {
   "codemirror_mode": {
    "name": "ipython",
    "version": 3
   },
   "file_extension": ".py",
   "mimetype": "text/x-python",
   "name": "python",
   "nbconvert_exporter": "python",
   "pygments_lexer": "ipython3",
   "version": "3.12.12"
  }
 },
 "nbformat": 4,
 "nbformat_minor": 5
}
