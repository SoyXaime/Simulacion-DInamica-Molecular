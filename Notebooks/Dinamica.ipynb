{
 "cells": [
  {
   "cell_type": "markdown",
   "id": "f5f4cdf8-a715-4243-a5e7-4dac369559fc",
   "metadata": {},
   "source": [
    "# Analisis de propeidades estaticas\n",
    "- Energía cinética media -> Temperatura media\n",
    "- Fuerza cuadratica media\n",
    "- Presión\n",
    "- ..."
   ]
  },
  {
   "cell_type": "markdown",
   "id": "2efead94-6539-459e-a945-392ea0af8735",
   "metadata": {},
   "source": [
    "## Importación de librerías y lectura de datos"
   ]
  },
  {
   "cell_type": "code",
   "execution_count": 2,
   "id": "3ca829a6-de51-4742-9b37-1f04a6868744",
   "metadata": {},
   "outputs": [],
   "source": [
    "import numpy as np\n",
    "import pandas as pd\n",
    "import matplotlib.pyplot as plt"
   ]
  },
  {
   "cell_type": "code",
   "execution_count": 3,
   "id": "1c0cf289",
   "metadata": {},
   "outputs": [
    {
     "data": {
      "text/plain": [
       "'/Users/xaime/Desktop/Cuarto/Simulacion/Programas/Proyectos/Notebooks'"
      ]
     },
     "execution_count": 3,
     "metadata": {},
     "output_type": "execute_result"
    }
   ],
   "source": [
    "import os\n",
    "os.getcwd()"
   ]
  },
  {
   "cell_type": "code",
   "execution_count": 4,
   "id": "295c449b",
   "metadata": {},
   "outputs": [
    {
     "name": "stdout",
     "output_type": "stream",
     "text": [
      "True\n",
      "../resultados\n",
      "dinamica\n",
      "dinamica\n"
     ]
    }
   ],
   "source": [
    "from pathlib import Path\n",
    "#codigo =\"110-160\"\n",
    "\n",
    "ruta_base = Path(\"..\") / \"resultados\" / \"dinamica\"\n",
    "\n",
    "ruta=ruta_base\n",
    "print(ruta.exists())  # True o False\n",
    "print(ruta.parent)    # Ruta al directorio padre\n",
    "print(ruta.name)      # archivo.txt\n",
    "print(ruta.stem)      # archivo"
   ]
  },
  {
   "cell_type": "code",
   "execution_count": 5,
   "id": "05140488",
   "metadata": {},
   "outputs": [],
   "source": [
    "#pd.read_csv(ruta, sep=r'\\s+')"
   ]
  },
  {
   "cell_type": "code",
   "execution_count": 6,
   "id": "f8b354cb-9290-4a52-bc71-e827d4e68f6f",
   "metadata": {},
   "outputs": [],
   "source": [
    "codigos=[\"110-160\",\"160-210\",\"110-160\",\"210-260\",\"260-310\",\"310-360\",\"360-410\",\"410-460\",\"460-510\",\"510-560\"] #Tiempo de inicio de simulacion-Tiempo de fin de simulacion\n",
    "\n",
    "DFS_vx=[]\n",
    "DFS_vy=[]\n",
    "DFS_vz=[]\n",
    "\n",
    "DATOS=[]\n",
    "\n",
    "for codigo in codigos:\n",
    "    DFS_vx.append(pd.read_csv(ruta_base / f\"Simulacion_{codigo}\"/\"velocidad_x.txt\", sep=r\"\\s+\", header=None))\n",
    "    DFS_vy.append(pd.read_csv(ruta_base/ f\"Simulacion_{codigo}\"/\"velocidad_y.txt\", sep=r\"\\s+\", header=None))\n",
    "    DFS_vz.append(pd.read_csv(ruta_base / f\"Simulacion_{codigo}\"/\"velocidad_z.txt\", sep=r\"\\s+\", header=None))\n",
    "    DATOS.append(pd.read_csv(ruta_base/ f\"Simulacion_{codigo}\"/\"gname2.txt\",skiprows=1, sep=r\"\\s+\", header=None, names=['t','Ec','Ep','E_tot','W','T','P_corr','F2']))"
   ]
  },
  {
   "cell_type": "code",
   "execution_count": 7,
   "id": "bffcb4dd-5e1c-4272-a9d9-07b55e1bbcd4",
   "metadata": {},
   "outputs": [
    {
     "data": {
      "text/plain": [
       "array([1.000e-02, 2.000e-02, 3.000e-02, ..., 4.998e+01, 4.999e+01,\n",
       "       5.000e+01], shape=(5000,))"
      ]
     },
     "execution_count": 7,
     "metadata": {},
     "output_type": "execute_result"
    }
   ],
   "source": [
    "tiempos=[df.t.to_numpy() for df in DATOS]\n",
    "\n",
    "tiempos[0]"
   ]
  },
  {
   "cell_type": "markdown",
   "id": "78741853-fc42-4c6f-bd03-aa78688c6744",
   "metadata": {},
   "source": [
    "### Formato de datos importados"
   ]
  },
  {
   "cell_type": "markdown",
   "id": "710d9606-7a64-4c9f-acc4-a0c62ac7a642",
   "metadata": {},
   "source": [
    "- En las columnas tenemos las particulas de la caja etiquetadas del 0 al 499\n",
    "- En las filas tenemos instantes sucesivos de tiempo grabados de nuestra simulacion."
   ]
  },
  {
   "cell_type": "code",
   "execution_count": 14,
   "id": "d075f6ec-be69-4d58-889a-ef59b2c32149",
   "metadata": {},
   "outputs": [
    {
     "data": {
      "text/html": [
       "<div>\n",
       "<style scoped>\n",
       "    .dataframe tbody tr th:only-of-type {\n",
       "        vertical-align: middle;\n",
       "    }\n",
       "\n",
       "    .dataframe tbody tr th {\n",
       "        vertical-align: top;\n",
       "    }\n",
       "\n",
       "    .dataframe thead th {\n",
       "        text-align: right;\n",
       "    }\n",
       "</style>\n",
       "<table border=\"1\" class=\"dataframe\">\n",
       "  <thead>\n",
       "    <tr style=\"text-align: right;\">\n",
       "      <th></th>\n",
       "      <th>Ec</th>\n",
       "      <th>Ep</th>\n",
       "      <th>E_tot</th>\n",
       "      <th>W</th>\n",
       "      <th>T</th>\n",
       "      <th>P_corr</th>\n",
       "      <th>F2</th>\n",
       "    </tr>\n",
       "  </thead>\n",
       "  <tbody>\n",
       "    <tr>\n",
       "      <th>mean</th>\n",
       "      <td>1024.125861</td>\n",
       "      <td>-1689.140024</td>\n",
       "      <td>-665.014171</td>\n",
       "      <td>-1283.983673</td>\n",
       "      <td>1.365501</td>\n",
       "      <td>0.221247</td>\n",
       "      <td>564.653986</td>\n",
       "    </tr>\n",
       "    <tr>\n",
       "      <th>std</th>\n",
       "      <td>17.820872</td>\n",
       "      <td>17.821100</td>\n",
       "      <td>0.022239</td>\n",
       "      <td>334.197115</td>\n",
       "      <td>0.023761</td>\n",
       "      <td>0.104360</td>\n",
       "      <td>80.949327</td>\n",
       "    </tr>\n",
       "  </tbody>\n",
       "</table>\n",
       "</div>"
      ],
      "text/plain": [
       "               Ec           Ep       E_tot            W         T    P_corr  \\\n",
       "mean  1024.125861 -1689.140024 -665.014171 -1283.983673  1.365501  0.221247   \n",
       "std     17.820872    17.821100    0.022239   334.197115  0.023761  0.104360   \n",
       "\n",
       "              F2  \n",
       "mean  564.653986  \n",
       "std    80.949327  "
      ]
     },
     "execution_count": 14,
     "metadata": {},
     "output_type": "execute_result"
    }
   ],
   "source": [
    "DATOS[-1].iloc[:,1:].agg([\"mean\",\"std\"])\n",
    "#DATOS[-1].min()"
   ]
  },
  {
   "cell_type": "code",
   "execution_count": 15,
   "id": "cbbd2ea1-e8fc-443e-9d91-3ae228a86b84",
   "metadata": {},
   "outputs": [
    {
     "name": "stdout",
     "output_type": "stream",
     "text": [
      "<F²> = 326.687683 ± 56.087657\n",
      "<Ec> = 1023.630884 ± 0.694273\n",
      "<Ep> = -1688.653544 ± 0.695153\n",
      "<W> = -1247.969042 ± 5.551650\n",
      "W/3V ES LA DERIVADA PRIMERA DEL POTENCIAL\n",
      "FALTAN LA DERIVADA SEGUNDA DEL POTENCIAL\n",
      "<P>  = 0.232922 ± 0.002128\n"
     ]
    }
   ],
   "source": [
    "F2s_mean=[]\n",
    "F2s_std=[]\n",
    "\n",
    "Ecs_mean=[]\n",
    "Ecs_std=[]\n",
    "\n",
    "Eps_mean=[]\n",
    "Eps_std=[]\n",
    "\n",
    "Ws_mean=[]\n",
    "Ws_std=[]\n",
    "\n",
    "Ps_mean=[]\n",
    "Ps_std=[]\n",
    "\n",
    "\n",
    "for df in DATOS:\n",
    "    F2s_mean.append(df.iloc[:,1:].agg([\"mean\",\"std\"]).loc[\"mean\",\"F2\"])\n",
    "    F2s_mean.append(df.iloc[:,1:].agg([\"mean\",\"std\"]).loc[\"std\",\"F2\"])\n",
    "\n",
    "    Ecs_mean.append(df.iloc[:,1:].agg([\"mean\",\"std\"]).loc[\"mean\",\"Ec\"])\n",
    "    Ecs_std.append(df.iloc[:,1:].agg([\"mean\",\"std\"]).loc[\"std\",\"Ec\"])\n",
    "\n",
    "    Eps_mean.append(df.iloc[:,1:].agg([\"mean\",\"std\"]).loc[\"mean\",\"Ep\"])\n",
    "    Eps_std.append(df.iloc[:,1:].agg([\"mean\",\"std\"]).loc[\"std\",\"Ep\"])\n",
    "\n",
    "    Ws_mean.append(df.iloc[:,1:].agg([\"mean\",\"std\"]).loc[\"mean\",\"W\"])\n",
    "    Ws_std.append(df.iloc[:,1:].agg([\"mean\",\"std\"]).loc[\"std\",\"W\"])\n",
    "\n",
    "    Ps_mean.append(df.iloc[:,1:].agg([\"mean\",\"std\"]).loc[\"mean\",\"P_corr\"])\n",
    "    Ps_std.append(df.iloc[:,1:].agg([\"mean\",\"std\"]).loc[\"std\",\"P_corr\"])\n",
    "\n",
    "\n",
    "F2s_mean=np.array(F2s_mean)\n",
    "F2s_std=np.array(F2s_mean)\n",
    "\n",
    "Ecs_mean=np.array(Ecs_mean)\n",
    "Ecs_std=np.array(Ecs_std)\n",
    "\n",
    "Eps_mean=np.array(Eps_mean)\n",
    "Eps_std=np.array(Eps_std)\n",
    "\n",
    "Ws_mean=np.array(Ws_mean)\n",
    "Ws_std=np.array(Ws_std)\n",
    "\n",
    "Ps_mean=np.array(Ps_mean)\n",
    "Ps_std=np.array(Ps_std)\n",
    "\n",
    "\n",
    "\"\"\"\n",
    "print(\"Ec=\",)\n",
    "\n",
    "print(F2s_mean)\n",
    "print(F2s_std)\n",
    "print(Ecs_mean)\n",
    "print(Ecs_std)\n",
    "print(Ps_mean)\n",
    "print(Ps_std)\n",
    "\n",
    "\"\"\"\n",
    "\n",
    "# Media global = media de las medias\n",
    "F2_mean = np.mean(F2s_mean)\n",
    "Ec_mean = np.mean(Ecs_mean)\n",
    "Ep_mean = np.mean(Eps_mean)\n",
    "W_mean = np.mean(Ws_mean)\n",
    "P_mean  = np.mean(Ps_mean)\n",
    "\n",
    "# Error estándar de la media global --> ¿Deberia tener en cuenta las std de cada bloque simulado?\n",
    "F2_err = np.std(F2s_mean, ddof=1) / np.sqrt(len(F2s_mean))\n",
    "Ec_err = np.std(Ecs_mean, ddof=1) / np.sqrt(len(Ecs_mean))\n",
    "Ep_err = np.std(Eps_mean, ddof=1) / np.sqrt(len(Eps_mean))\n",
    "W_err = np.std(Ws_mean, ddof=1) / np.sqrt(len(Ws_mean))\n",
    "P_err  = np.std(Ps_mean, ddof=1) / np.sqrt(len(Ps_mean))\n",
    "\n",
    "print(f\"<F²> = {F2_mean:.6f} ± {F2_err:.6f}\")\n",
    "print(f\"<Ec> = {Ec_mean:.6f} ± {Ec_err:.6f}\")\n",
    "print(f\"<Ep> = {Ep_mean:.6f} ± {Ep_err:.6f}\")\n",
    "print(f\"<W> = {W_mean:.6f} ± {W_err:.6f}\")\n",
    "print(\"W/3V ES LA DERIVADA PRIMERA DEL POTENCIAL\")\n",
    "print(\"FALTAN LA DERIVADA SEGUNDA DEL POTENCIAL\")\n",
    "\n",
    "print(f\"<P>  = {P_mean:.6f} ± {P_err:.6f}\")"
   ]
  },
  {
   "cell_type": "markdown",
   "id": "0fa4809f-538d-4211-8f16-1904b164a765",
   "metadata": {},
   "source": [
    "# Propiedades estaticas\n",
    "\n",
    "$ C_v = \\frac{3}{2} + \\frac{1}{T} \\left[ <\\phi_V^2>-<\\phi_V>^2\\right]$\n",
    "\n",
    "$\\frac{1}{k_T}= \\frac{NT}{V} + V<\\phi_VV>-\\frac{V}{T} \\left[  <\\phi_V^2>-<\\phi_V>^2\\right]$\n",
    "\n",
    "$\\gamma = \\frac{V}{C_V}\\left[\\frac{N k}{V} +\\frac{1}{k T^2}\\left(\\langle \\phi \\rangle \\langle \\phi_V \\rangle - \\langle \\phi \\phi_V\\rangle\\right)\\right]$\n"
   ]
  },
  {
   "cell_type": "code",
   "execution_count": 17,
   "id": "07a685e8-51c0-45a4-b9e4-a293b229510a",
   "metadata": {},
   "outputs": [],
   "source": [
    "def Cv(T,W2_mean,W_mean2):\n",
    "    return 3/2\n",
    "\n",
    "def Kt_1(N,T,V,W2_mean,W_mean2):\n",
    "    return 32\n",
    "\n",
    "def gamma():\n",
    "    return"
   ]
  },
  {
   "cell_type": "code",
   "execution_count": null,
   "id": "0bce12bc-2283-45e8-bb7e-f63a4d56d350",
   "metadata": {},
   "outputs": [],
   "source": []
  }
 ],
 "metadata": {
  "kernelspec": {
   "display_name": "Python [conda env:TFG]",
   "language": "python",
   "name": "conda-env-TFG-py"
  },
  "language_info": {
   "codemirror_mode": {
    "name": "ipython",
    "version": 3
   },
   "file_extension": ".py",
   "mimetype": "text/x-python",
   "name": "python",
   "nbconvert_exporter": "python",
   "pygments_lexer": "ipython3",
   "version": "3.12.12"
  }
 },
 "nbformat": 4,
 "nbformat_minor": 5
}
