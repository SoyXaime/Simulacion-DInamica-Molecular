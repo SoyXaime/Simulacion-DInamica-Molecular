{
 "cells": [
  {
   "metadata": {},
   "id": "f5f4cdf8-a715-4243-a5e7-4dac369559fc",
   "cell_type": "markdown",
   "source": "# Analisis de propeidades estaticas\n- Energía cinética media -> Temperatura media\n- Fuerza cuadratica media\n- Presión\n- ..."
  },
  {
   "metadata": {},
   "id": "2efead94-6539-459e-a945-392ea0af8735",
   "cell_type": "markdown",
   "source": "## Importación de librerías y lectura de datos"
  },
  {
   "metadata": {
    "trusted": true
   },
   "id": "3ca829a6-de51-4742-9b37-1f04a6868744",
   "cell_type": "code",
   "source": "import numpy as np\nimport pandas as pd\nimport matplotlib.pyplot as plt",
   "execution_count": 1,
   "outputs": []
  },
  {
   "metadata": {
    "trusted": true
   },
   "id": "1c0cf289",
   "cell_type": "code",
   "source": "import os\nos.getcwd()",
   "execution_count": 2,
   "outputs": [
    {
     "output_type": "execute_result",
     "execution_count": 2,
     "data": {
      "text/plain": "'/private/var/mobile/Containers/Data/Application/8C70C489-A646-4256-A688-F892C67ED0B6/Documents/Repos/Simulacion-DInamica-Molecular/Notebooks'"
     },
     "metadata": {}
    }
   ]
  },
  {
   "metadata": {
    "trusted": true
   },
   "id": "295c449b",
   "cell_type": "code",
   "source": "from pathlib import Path\ncodigo =\"110-160\"\n\nruta_vx = Path(\"..\") / \"resultados\" / \"dinamica\" / f\"Simulacion_{codigo}/velocidad_x.txt\"\nruta_vy = Path(\"..\") / \"resultados\" / \"dinamica\" / f\"Simulacion_{codigo}/velocidad_y.txt\"\nruta_vz = Path(\"..\") / \"resultados\" / \"dinamica\" / f\"Simulacion_{codigo}/velocidad_z.txt\"\nruta_gname2 = Path(\"..\") / \"resultados\" / \"dinamica\" / f\"Simulacion_{codigo}/gname2.txt\"\n\nruta=ruta_gname2\nprint(ruta.exists())  # True o False\nprint(ruta.parent)    # Ruta al directorio padre\nprint(ruta.name)      # archivo.txt\nprint(ruta.stem)      # archivo",
   "execution_count": 3,
   "outputs": [
    {
     "output_type": "stream",
     "text": "True\n../resultados/dinamica/Simulacion_110-160\ngname2.txt\ngname2\n",
     "name": "stdout"
    }
   ]
  },
  {
   "metadata": {
    "trusted": true
   },
   "id": "05140488",
   "cell_type": "code",
   "source": "pd.read_csv(ruta, sep=r'\\s+')",
   "execution_count": 4,
   "outputs": [
    {
     "output_type": "execute_result",
     "execution_count": 4,
     "data": {
      "text/plain": "          t         Ec        Ep     E_tot          W         T    P_corr  \\\n0      0.01  1016.1460 -1681.177 -665.0314 -1008.6110  1.354861  0.307718   \n1      0.02  1009.4510 -1674.483 -665.0322  -853.3452  1.345935  0.355010   \n2      0.03  1002.6610 -1667.683 -665.0224  -705.5814  1.336881  0.399738   \n3      0.04   997.5940 -1662.624 -665.0296  -592.0951  1.330125  0.434189   \n4      0.05   996.7793 -1661.809 -665.0293  -546.2595  1.329039  0.448924   \n...     ...        ...       ...       ...        ...       ...       ...   \n4995  49.96  1034.5940 -1699.641 -665.0471 -1180.0290  1.379459  0.262877   \n4996  49.97  1022.1360 -1687.186 -665.0498 -1002.7700  1.362848  0.313659   \n4997  49.98  1014.4410 -1679.493 -665.0521  -903.5724  1.352587  0.341594   \n4998  49.99  1014.1660 -1679.220 -665.0537  -923.7901  1.352222  0.334672   \n4999  50.00  1018.7250 -1683.778 -665.0532 -1030.0900  1.358299  0.302278   \n\n            F2  \n0     549.9444  \n1     573.0316  \n2     606.1855  \n3     639.9411  \n4     633.7288  \n...        ...  \n4995  562.2455  \n4996  662.9936  \n4997  704.0887  \n4998  667.7893  \n4999  623.1073  \n\n[5000 rows x 8 columns]",
      "text/html": "<div>\n<style scoped>\n    .dataframe tbody tr th:only-of-type {\n        vertical-align: middle;\n    }\n\n    .dataframe tbody tr th {\n        vertical-align: top;\n    }\n\n    .dataframe thead th {\n        text-align: right;\n    }\n</style>\n<table border=\"1\" class=\"dataframe\">\n  <thead>\n    <tr style=\"text-align: right;\">\n      <th></th>\n      <th>t</th>\n      <th>Ec</th>\n      <th>Ep</th>\n      <th>E_tot</th>\n      <th>W</th>\n      <th>T</th>\n      <th>P_corr</th>\n      <th>F2</th>\n    </tr>\n  </thead>\n  <tbody>\n    <tr>\n      <th>0</th>\n      <td>0.01</td>\n      <td>1016.1460</td>\n      <td>-1681.177</td>\n      <td>-665.0314</td>\n      <td>-1008.6110</td>\n      <td>1.354861</td>\n      <td>0.307718</td>\n      <td>549.9444</td>\n    </tr>\n    <tr>\n      <th>1</th>\n      <td>0.02</td>\n      <td>1009.4510</td>\n      <td>-1674.483</td>\n      <td>-665.0322</td>\n      <td>-853.3452</td>\n      <td>1.345935</td>\n      <td>0.355010</td>\n      <td>573.0316</td>\n    </tr>\n    <tr>\n      <th>2</th>\n      <td>0.03</td>\n      <td>1002.6610</td>\n      <td>-1667.683</td>\n      <td>-665.0224</td>\n      <td>-705.5814</td>\n      <td>1.336881</td>\n      <td>0.399738</td>\n      <td>606.1855</td>\n    </tr>\n    <tr>\n      <th>3</th>\n      <td>0.04</td>\n      <td>997.5940</td>\n      <td>-1662.624</td>\n      <td>-665.0296</td>\n      <td>-592.0951</td>\n      <td>1.330125</td>\n      <td>0.434189</td>\n      <td>639.9411</td>\n    </tr>\n    <tr>\n      <th>4</th>\n      <td>0.05</td>\n      <td>996.7793</td>\n      <td>-1661.809</td>\n      <td>-665.0293</td>\n      <td>-546.2595</td>\n      <td>1.329039</td>\n      <td>0.448924</td>\n      <td>633.7288</td>\n    </tr>\n    <tr>\n      <th>...</th>\n      <td>...</td>\n      <td>...</td>\n      <td>...</td>\n      <td>...</td>\n      <td>...</td>\n      <td>...</td>\n      <td>...</td>\n      <td>...</td>\n    </tr>\n    <tr>\n      <th>4995</th>\n      <td>49.96</td>\n      <td>1034.5940</td>\n      <td>-1699.641</td>\n      <td>-665.0471</td>\n      <td>-1180.0290</td>\n      <td>1.379459</td>\n      <td>0.262877</td>\n      <td>562.2455</td>\n    </tr>\n    <tr>\n      <th>4996</th>\n      <td>49.97</td>\n      <td>1022.1360</td>\n      <td>-1687.186</td>\n      <td>-665.0498</td>\n      <td>-1002.7700</td>\n      <td>1.362848</td>\n      <td>0.313659</td>\n      <td>662.9936</td>\n    </tr>\n    <tr>\n      <th>4997</th>\n      <td>49.98</td>\n      <td>1014.4410</td>\n      <td>-1679.493</td>\n      <td>-665.0521</td>\n      <td>-903.5724</td>\n      <td>1.352587</td>\n      <td>0.341594</td>\n      <td>704.0887</td>\n    </tr>\n    <tr>\n      <th>4998</th>\n      <td>49.99</td>\n      <td>1014.1660</td>\n      <td>-1679.220</td>\n      <td>-665.0537</td>\n      <td>-923.7901</td>\n      <td>1.352222</td>\n      <td>0.334672</td>\n      <td>667.7893</td>\n    </tr>\n    <tr>\n      <th>4999</th>\n      <td>50.00</td>\n      <td>1018.7250</td>\n      <td>-1683.778</td>\n      <td>-665.0532</td>\n      <td>-1030.0900</td>\n      <td>1.358299</td>\n      <td>0.302278</td>\n      <td>623.1073</td>\n    </tr>\n  </tbody>\n</table>\n<p>5000 rows × 8 columns</p>\n</div>"
     },
     "metadata": {}
    }
   ]
  },
  {
   "metadata": {
    "trusted": true
   },
   "id": "f8b354cb-9290-4a52-bc71-e827d4e68f6f",
   "cell_type": "code",
   "source": "codigos=[\"110-160\",\"160-210\",\"110-160\",\"210-260\",\"260-310\",\"310-360\",\"360-410\",\"410-460\",\"460-510\",\"510-560\"] #Tiempo de inicio de simulacion-Tiempo de fin de simulacion\n\nDFS_vx=[]\nDFS_vy=[]\nDFS_vz=[]\n\nDATOS=[]\n\nfor codigo in codigos:\n    DFS_vx.append(pd.read_csv(ruta_vx, sep=r\"\\s+\", header=None))\n    DFS_vy.append(pd.read_csv(ruta_vy, sep=r\"\\s+\", header=None))\n    DFS_vz.append(pd.read_csv(ruta_vz, sep=r\"\\s+\", header=None))\n    DATOS.append(pd.read_csv(ruta_gname2,skiprows=1, sep=r\"\\s+\", header=None, names=['t','Ec','Ep','E_tot','W','T','P_corr','F2']))",
   "execution_count": 5,
   "outputs": []
  },
  {
   "metadata": {
    "trusted": true
   },
   "id": "bffcb4dd-5e1c-4272-a9d9-07b55e1bbcd4",
   "cell_type": "code",
   "source": "tiempos=[df.t.to_numpy() for df in DATOS]\n\ntiempos[0]",
   "execution_count": 6,
   "outputs": [
    {
     "output_type": "execute_result",
     "execution_count": 6,
     "data": {
      "text/plain": "array([1.000e-02, 2.000e-02, 3.000e-02, ..., 4.998e+01, 4.999e+01,\n       5.000e+01])"
     },
     "metadata": {}
    }
   ]
  },
  {
   "metadata": {},
   "id": "78741853-fc42-4c6f-bd03-aa78688c6744",
   "cell_type": "markdown",
   "source": "### Formato de datos importados"
  },
  {
   "metadata": {},
   "id": "710d9606-7a64-4c9f-acc4-a0c62ac7a642",
   "cell_type": "markdown",
   "source": "- En las columnas tenemos las particulas de la caja etiquetadas del 0 al 499\n- En las filas tenemos instantes sucesivos de tiempo grabados de nuestra simulacion."
  },
  {
   "metadata": {
    "trusted": true
   },
   "id": "d075f6ec-be69-4d58-889a-ef59b2c32149",
   "cell_type": "code",
   "source": "DATOS[-1].iloc[:,1:].agg([\"mean\",\"std\"])\nDATOS[-1].max()",
   "execution_count": 8,
   "outputs": [
    {
     "output_type": "execute_result",
     "execution_count": 8,
     "data": {
      "text/plain": "t           50.000000\nEc        1093.431000\nEp       -1629.125000\nE_tot     -664.943600\nW         -336.780100\nT            1.457907\nP_corr       0.523574\nF2        1018.172000\ndtype: float64"
     },
     "metadata": {}
    }
   ]
  },
  {
   "metadata": {
    "trusted": true
   },
   "id": "cbbd2ea1-e8fc-443e-9d91-3ae228a86b84",
   "cell_type": "code",
   "source": "F2s_mean=[]\nF2s_std=[]\n\nEcs_mean=[]\nEcs_std=[]\n\nPs_mean=[]\nPs_std=[]\n\n\nfor df in DATOS:\n    F2s_mean.append(df.iloc[:,1:].agg([\"mean\",\"std\"]).loc[\"mean\",\"F2\"])\n    F2s_mean.append(df.iloc[:,1:].agg([\"mean\",\"std\"]).loc[\"std\",\"F2\"])\n\n    Ecs_mean.append(df.iloc[:,1:].agg([\"mean\",\"std\"]).loc[\"mean\",\"Ec\"])\n    Ecs_std.append(df.iloc[:,1:].agg([\"mean\",\"std\"]).loc[\"std\",\"Ec\"])\n\n    Ps_mean.append(df.iloc[:,1:].agg([\"mean\",\"std\"]).loc[\"mean\",\"P_corr\"])\n    Ps_std.append(df.iloc[:,1:].agg([\"mean\",\"std\"]).loc[\"std\",\"P_corr\"])\n\n\nF2s_mean=np.array(F2s_mean)\nF2s_std=np.array(F2s_mean)\n\nEcs_mean=np.array(Ecs_mean)\nEcs_std=np.array(Ecs_std)\n\nPs_mean=np.array(Ps_mean)\nPs_std=np.array(Ps_std)\n\n\n\"\"\"\nprint(\"Ec=\",)\n\nprint(F2s_mean)\nprint(F2s_std)\nprint(Ecs_mean)\nprint(Ecs_std)\nprint(Ps_mean)\nprint(Ps_std)\n\n\"\"\"\n\n# Media global = media de las medias\nF2_mean = np.mean(F2s_mean)\nEc_mean = np.mean(Ecs_mean)\nP_mean  = np.mean(Ps_mean)\n\n# Error estándar de la media global --> ¿Deberia tener en cuenta las std de cada bloque simulado?\nF2_err = np.std(F2s_mean, ddof=1) / np.sqrt(len(F2s_mean))\nEc_err = np.std(Ecs_mean, ddof=1) / np.sqrt(len(Ecs_mean))\nP_err  = np.std(Ps_mean, ddof=1) / np.sqrt(len(Ps_mean))\n\nprint(f\"<F²> = {F2_mean:.6f} ± {F2_err:.6f}\")\nprint(f\"<Ec> = {Ec_mean:.6f} ± {Ec_err:.10f}\")\nprint(f\"<P>  = {P_mean:.6f} ± {P_err:.10f}\")",
   "execution_count": 11,
   "outputs": [
    {
     "output_type": "stream",
     "text": "<F²> = 324.144055 ± 55.845157\n<Ec> = 1020.245813 ± 0.0000000000\n<P>  = 0.226950 ± 0.0000000000\n",
     "name": "stdout"
    }
   ]
  },
  {
   "metadata": {
    "trusted": true
   },
   "id": "70f845c9-9945-4093-80b1-464cc48b13d5",
   "cell_type": "code",
   "source": "",
   "execution_count": null,
   "outputs": []
  },
  {
   "metadata": {
    "trusted": false
   },
   "id": "817e276a-87ab-4cd5-8026-463364c5deca",
   "cell_type": "code",
   "source": "",
   "execution_count": null,
   "outputs": []
  }
 ],
 "metadata": {
  "kernelspec": {
   "name": "python3",
   "display_name": "Python 3",
   "language": "python"
  },
  "language_info": {
   "name": "python",
   "version": "3.10.4",
   "mimetype": "text/x-python",
   "codemirror_mode": {
    "name": "ipython",
    "version": 3
   },
   "pygments_lexer": "ipython3",
   "nbconvert_exporter": "python",
   "file_extension": ".py"
  }
 },
 "nbformat": 4,
 "nbformat_minor": 5
}