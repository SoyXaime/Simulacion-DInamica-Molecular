{
 "cells": [
  {
   "cell_type": "markdown",
   "id": "f5f4cdf8-a715-4243-a5e7-4dac369559fc",
   "metadata": {},
   "source": [
    "# Analisis del equilibrio"
   ]
  },
  {
   "cell_type": "markdown",
   "id": "1535f634-d229-49a1-924b-6721ca0f95c2",
   "metadata": {},
   "source": []
  },
  {
   "cell_type": "markdown",
   "id": "2efead94-6539-459e-a945-392ea0af8735",
   "metadata": {},
   "source": [
    "## Importación de librerías y lectura de datos"
   ]
  },
  {
   "cell_type": "code",
   "execution_count": 3,
   "id": "3ca829a6-de51-4742-9b37-1f04a6868744",
   "metadata": {},
   "outputs": [],
   "source": [
    "import numpy as np\n",
    "import pandas as pd\n",
    "import matplotlib.pyplot as plt"
   ]
  },
  {
   "cell_type": "code",
   "execution_count": 16,
   "id": "f8b354cb-9290-4a52-bc71-e827d4e68f6f",
   "metadata": {},
   "outputs": [
    {
     "name": "stderr",
     "output_type": "stream",
     "text": [
      "/var/folders/15/rn_wb7ms2yq2yn7zj6rqkq880000gn/T/ipykernel_9162/3023447748.py:9: FutureWarning: The 'delim_whitespace' keyword in pd.read_csv is deprecated and will be removed in a future version. Use ``sep='\\s+'`` instead\n",
      "  DFS_vx.append(pd.read_csv(\"../resultados/dinamica/Simulacion_\"+ codigo + \"/velocidad_x.txt\", delim_whitespace=True, header=None))\n",
      "/var/folders/15/rn_wb7ms2yq2yn7zj6rqkq880000gn/T/ipykernel_9162/3023447748.py:10: FutureWarning: The 'delim_whitespace' keyword in pd.read_csv is deprecated and will be removed in a future version. Use ``sep='\\s+'`` instead\n",
      "  DFS_vy.append(pd.read_csv(\"../resultados/dinamica/Simulacion_\"+ codigo + \"/velocidad_y.txt\", delim_whitespace=True, header=None))\n",
      "/var/folders/15/rn_wb7ms2yq2yn7zj6rqkq880000gn/T/ipykernel_9162/3023447748.py:11: FutureWarning: The 'delim_whitespace' keyword in pd.read_csv is deprecated and will be removed in a future version. Use ``sep='\\s+'`` instead\n",
      "  DFS_vz.append(pd.read_csv(\"../resultados/dinamica/Simulacion_\"+ codigo + \"/velocidad_z.txt\", delim_whitespace=True, header=None))\n",
      "/var/folders/15/rn_wb7ms2yq2yn7zj6rqkq880000gn/T/ipykernel_9162/3023447748.py:12: FutureWarning: The 'delim_whitespace' keyword in pd.read_csv is deprecated and will be removed in a future version. Use ``sep='\\s+'`` instead\n",
      "  DATOS.append(pd.read_csv(\"../resultados/dinamica/Simulacion_\"+ codigo + \"/gname2.txt\",skiprows=1, delim_whitespace=True, header=None, names=['t','Ec','Ep','E_tot','W','T','P_corr','F2']))\n",
      "/var/folders/15/rn_wb7ms2yq2yn7zj6rqkq880000gn/T/ipykernel_9162/3023447748.py:9: FutureWarning: The 'delim_whitespace' keyword in pd.read_csv is deprecated and will be removed in a future version. Use ``sep='\\s+'`` instead\n",
      "  DFS_vx.append(pd.read_csv(\"../resultados/dinamica/Simulacion_\"+ codigo + \"/velocidad_x.txt\", delim_whitespace=True, header=None))\n",
      "/var/folders/15/rn_wb7ms2yq2yn7zj6rqkq880000gn/T/ipykernel_9162/3023447748.py:10: FutureWarning: The 'delim_whitespace' keyword in pd.read_csv is deprecated and will be removed in a future version. Use ``sep='\\s+'`` instead\n",
      "  DFS_vy.append(pd.read_csv(\"../resultados/dinamica/Simulacion_\"+ codigo + \"/velocidad_y.txt\", delim_whitespace=True, header=None))\n",
      "/var/folders/15/rn_wb7ms2yq2yn7zj6rqkq880000gn/T/ipykernel_9162/3023447748.py:11: FutureWarning: The 'delim_whitespace' keyword in pd.read_csv is deprecated and will be removed in a future version. Use ``sep='\\s+'`` instead\n",
      "  DFS_vz.append(pd.read_csv(\"../resultados/dinamica/Simulacion_\"+ codigo + \"/velocidad_z.txt\", delim_whitespace=True, header=None))\n",
      "/var/folders/15/rn_wb7ms2yq2yn7zj6rqkq880000gn/T/ipykernel_9162/3023447748.py:12: FutureWarning: The 'delim_whitespace' keyword in pd.read_csv is deprecated and will be removed in a future version. Use ``sep='\\s+'`` instead\n",
      "  DATOS.append(pd.read_csv(\"../resultados/dinamica/Simulacion_\"+ codigo + \"/gname2.txt\",skiprows=1, delim_whitespace=True, header=None, names=['t','Ec','Ep','E_tot','W','T','P_corr','F2']))\n",
      "/var/folders/15/rn_wb7ms2yq2yn7zj6rqkq880000gn/T/ipykernel_9162/3023447748.py:9: FutureWarning: The 'delim_whitespace' keyword in pd.read_csv is deprecated and will be removed in a future version. Use ``sep='\\s+'`` instead\n",
      "  DFS_vx.append(pd.read_csv(\"../resultados/dinamica/Simulacion_\"+ codigo + \"/velocidad_x.txt\", delim_whitespace=True, header=None))\n",
      "/var/folders/15/rn_wb7ms2yq2yn7zj6rqkq880000gn/T/ipykernel_9162/3023447748.py:10: FutureWarning: The 'delim_whitespace' keyword in pd.read_csv is deprecated and will be removed in a future version. Use ``sep='\\s+'`` instead\n",
      "  DFS_vy.append(pd.read_csv(\"../resultados/dinamica/Simulacion_\"+ codigo + \"/velocidad_y.txt\", delim_whitespace=True, header=None))\n",
      "/var/folders/15/rn_wb7ms2yq2yn7zj6rqkq880000gn/T/ipykernel_9162/3023447748.py:11: FutureWarning: The 'delim_whitespace' keyword in pd.read_csv is deprecated and will be removed in a future version. Use ``sep='\\s+'`` instead\n",
      "  DFS_vz.append(pd.read_csv(\"../resultados/dinamica/Simulacion_\"+ codigo + \"/velocidad_z.txt\", delim_whitespace=True, header=None))\n",
      "/var/folders/15/rn_wb7ms2yq2yn7zj6rqkq880000gn/T/ipykernel_9162/3023447748.py:12: FutureWarning: The 'delim_whitespace' keyword in pd.read_csv is deprecated and will be removed in a future version. Use ``sep='\\s+'`` instead\n",
      "  DATOS.append(pd.read_csv(\"../resultados/dinamica/Simulacion_\"+ codigo + \"/gname2.txt\",skiprows=1, delim_whitespace=True, header=None, names=['t','Ec','Ep','E_tot','W','T','P_corr','F2']))\n",
      "/var/folders/15/rn_wb7ms2yq2yn7zj6rqkq880000gn/T/ipykernel_9162/3023447748.py:9: FutureWarning: The 'delim_whitespace' keyword in pd.read_csv is deprecated and will be removed in a future version. Use ``sep='\\s+'`` instead\n",
      "  DFS_vx.append(pd.read_csv(\"../resultados/dinamica/Simulacion_\"+ codigo + \"/velocidad_x.txt\", delim_whitespace=True, header=None))\n",
      "/var/folders/15/rn_wb7ms2yq2yn7zj6rqkq880000gn/T/ipykernel_9162/3023447748.py:10: FutureWarning: The 'delim_whitespace' keyword in pd.read_csv is deprecated and will be removed in a future version. Use ``sep='\\s+'`` instead\n",
      "  DFS_vy.append(pd.read_csv(\"../resultados/dinamica/Simulacion_\"+ codigo + \"/velocidad_y.txt\", delim_whitespace=True, header=None))\n",
      "/var/folders/15/rn_wb7ms2yq2yn7zj6rqkq880000gn/T/ipykernel_9162/3023447748.py:11: FutureWarning: The 'delim_whitespace' keyword in pd.read_csv is deprecated and will be removed in a future version. Use ``sep='\\s+'`` instead\n",
      "  DFS_vz.append(pd.read_csv(\"../resultados/dinamica/Simulacion_\"+ codigo + \"/velocidad_z.txt\", delim_whitespace=True, header=None))\n",
      "/var/folders/15/rn_wb7ms2yq2yn7zj6rqkq880000gn/T/ipykernel_9162/3023447748.py:12: FutureWarning: The 'delim_whitespace' keyword in pd.read_csv is deprecated and will be removed in a future version. Use ``sep='\\s+'`` instead\n",
      "  DATOS.append(pd.read_csv(\"../resultados/dinamica/Simulacion_\"+ codigo + \"/gname2.txt\",skiprows=1, delim_whitespace=True, header=None, names=['t','Ec','Ep','E_tot','W','T','P_corr','F2']))\n",
      "/var/folders/15/rn_wb7ms2yq2yn7zj6rqkq880000gn/T/ipykernel_9162/3023447748.py:9: FutureWarning: The 'delim_whitespace' keyword in pd.read_csv is deprecated and will be removed in a future version. Use ``sep='\\s+'`` instead\n",
      "  DFS_vx.append(pd.read_csv(\"../resultados/dinamica/Simulacion_\"+ codigo + \"/velocidad_x.txt\", delim_whitespace=True, header=None))\n",
      "/var/folders/15/rn_wb7ms2yq2yn7zj6rqkq880000gn/T/ipykernel_9162/3023447748.py:10: FutureWarning: The 'delim_whitespace' keyword in pd.read_csv is deprecated and will be removed in a future version. Use ``sep='\\s+'`` instead\n",
      "  DFS_vy.append(pd.read_csv(\"../resultados/dinamica/Simulacion_\"+ codigo + \"/velocidad_y.txt\", delim_whitespace=True, header=None))\n",
      "/var/folders/15/rn_wb7ms2yq2yn7zj6rqkq880000gn/T/ipykernel_9162/3023447748.py:11: FutureWarning: The 'delim_whitespace' keyword in pd.read_csv is deprecated and will be removed in a future version. Use ``sep='\\s+'`` instead\n",
      "  DFS_vz.append(pd.read_csv(\"../resultados/dinamica/Simulacion_\"+ codigo + \"/velocidad_z.txt\", delim_whitespace=True, header=None))\n",
      "/var/folders/15/rn_wb7ms2yq2yn7zj6rqkq880000gn/T/ipykernel_9162/3023447748.py:12: FutureWarning: The 'delim_whitespace' keyword in pd.read_csv is deprecated and will be removed in a future version. Use ``sep='\\s+'`` instead\n",
      "  DATOS.append(pd.read_csv(\"../resultados/dinamica/Simulacion_\"+ codigo + \"/gname2.txt\",skiprows=1, delim_whitespace=True, header=None, names=['t','Ec','Ep','E_tot','W','T','P_corr','F2']))\n",
      "/var/folders/15/rn_wb7ms2yq2yn7zj6rqkq880000gn/T/ipykernel_9162/3023447748.py:9: FutureWarning: The 'delim_whitespace' keyword in pd.read_csv is deprecated and will be removed in a future version. Use ``sep='\\s+'`` instead\n",
      "  DFS_vx.append(pd.read_csv(\"../resultados/dinamica/Simulacion_\"+ codigo + \"/velocidad_x.txt\", delim_whitespace=True, header=None))\n",
      "/var/folders/15/rn_wb7ms2yq2yn7zj6rqkq880000gn/T/ipykernel_9162/3023447748.py:10: FutureWarning: The 'delim_whitespace' keyword in pd.read_csv is deprecated and will be removed in a future version. Use ``sep='\\s+'`` instead\n",
      "  DFS_vy.append(pd.read_csv(\"../resultados/dinamica/Simulacion_\"+ codigo + \"/velocidad_y.txt\", delim_whitespace=True, header=None))\n",
      "/var/folders/15/rn_wb7ms2yq2yn7zj6rqkq880000gn/T/ipykernel_9162/3023447748.py:11: FutureWarning: The 'delim_whitespace' keyword in pd.read_csv is deprecated and will be removed in a future version. Use ``sep='\\s+'`` instead\n",
      "  DFS_vz.append(pd.read_csv(\"../resultados/dinamica/Simulacion_\"+ codigo + \"/velocidad_z.txt\", delim_whitespace=True, header=None))\n",
      "/var/folders/15/rn_wb7ms2yq2yn7zj6rqkq880000gn/T/ipykernel_9162/3023447748.py:12: FutureWarning: The 'delim_whitespace' keyword in pd.read_csv is deprecated and will be removed in a future version. Use ``sep='\\s+'`` instead\n",
      "  DATOS.append(pd.read_csv(\"../resultados/dinamica/Simulacion_\"+ codigo + \"/gname2.txt\",skiprows=1, delim_whitespace=True, header=None, names=['t','Ec','Ep','E_tot','W','T','P_corr','F2']))\n"
     ]
    }
   ],
   "source": [
    "codigos=[\"110-160\",\"160-210\",\"110-160\",\"210-260\",\"260-310\",\"310-360\"]\n",
    "DFS_vx=[]\n",
    "DFS_vy=[]\n",
    "DFS_vz=[]\n",
    "\n",
    "DATOS=[]\n",
    "\n",
    "for codigo in codigos:\n",
    "    DFS_vx.append(pd.read_csv(\"../resultados/dinamica/Simulacion_\"+ codigo + \"/velocidad_x.txt\", delim_whitespace=True, header=None))\n",
    "    DFS_vy.append(pd.read_csv(\"../resultados/dinamica/Simulacion_\"+ codigo + \"/velocidad_y.txt\", delim_whitespace=True, header=None))\n",
    "    DFS_vz.append(pd.read_csv(\"../resultados/dinamica/Simulacion_\"+ codigo + \"/velocidad_z.txt\", delim_whitespace=True, header=None))\n",
    "    DATOS.append(pd.read_csv(\"../resultados/dinamica/Simulacion_\"+ codigo + \"/gname2.txt\",skiprows=1, delim_whitespace=True, header=None, names=['t','Ec','Ep','E_tot','W','T','P_corr','F2']))"
   ]
  },
  {
   "cell_type": "code",
   "execution_count": 21,
   "id": "bffcb4dd-5e1c-4272-a9d9-07b55e1bbcd4",
   "metadata": {},
   "outputs": [
    {
     "data": {
      "text/plain": [
       "array([1.000e-02, 2.000e-02, 3.000e-02, ..., 4.998e+01, 4.999e+01,\n",
       "       5.000e+01], shape=(5000,))"
      ]
     },
     "execution_count": 21,
     "metadata": {},
     "output_type": "execute_result"
    }
   ],
   "source": [
    "tiempos=[df.t.to_numpy() for df in DATOS]\n",
    "\n",
    "tiempos[0]"
   ]
  },
  {
   "cell_type": "markdown",
   "id": "78741853-fc42-4c6f-bd03-aa78688c6744",
   "metadata": {},
   "source": [
    "### Formato de datos importados"
   ]
  },
  {
   "cell_type": "markdown",
   "id": "710d9606-7a64-4c9f-acc4-a0c62ac7a642",
   "metadata": {},
   "source": [
    "- En las columnas tenemos las particulas de la caja etiquetadas del 0 al 499\n",
    "- En las filas tenemos instantes sucesivos de tiempo grabados de nuestra simulacion."
   ]
  },
  {
   "cell_type": "code",
   "execution_count": 38,
   "id": "d075f6ec-be69-4d58-889a-ef59b2c32149",
   "metadata": {},
   "outputs": [
    {
     "data": {
      "text/html": [
       "<div>\n",
       "<style scoped>\n",
       "    .dataframe tbody tr th:only-of-type {\n",
       "        vertical-align: middle;\n",
       "    }\n",
       "\n",
       "    .dataframe tbody tr th {\n",
       "        vertical-align: top;\n",
       "    }\n",
       "\n",
       "    .dataframe thead th {\n",
       "        text-align: right;\n",
       "    }\n",
       "</style>\n",
       "<table border=\"1\" class=\"dataframe\">\n",
       "  <thead>\n",
       "    <tr style=\"text-align: right;\">\n",
       "      <th></th>\n",
       "      <th>Ec</th>\n",
       "      <th>Ep</th>\n",
       "      <th>E_tot</th>\n",
       "      <th>W</th>\n",
       "      <th>T</th>\n",
       "      <th>P_corr</th>\n",
       "      <th>F2</th>\n",
       "    </tr>\n",
       "  </thead>\n",
       "  <tbody>\n",
       "    <tr>\n",
       "      <th>mean</th>\n",
       "      <td>1024.195928</td>\n",
       "      <td>-1689.225999</td>\n",
       "      <td>-665.030063</td>\n",
       "      <td>-1238.774635</td>\n",
       "      <td>1.365595</td>\n",
       "      <td>0.236364</td>\n",
       "      <td>571.458929</td>\n",
       "    </tr>\n",
       "    <tr>\n",
       "      <th>std</th>\n",
       "      <td>17.646443</td>\n",
       "      <td>17.651434</td>\n",
       "      <td>0.026460</td>\n",
       "      <td>341.948152</td>\n",
       "      <td>0.023529</td>\n",
       "      <td>0.108351</td>\n",
       "      <td>82.228914</td>\n",
       "    </tr>\n",
       "  </tbody>\n",
       "</table>\n",
       "</div>"
      ],
      "text/plain": [
       "               Ec           Ep       E_tot            W         T    P_corr  \\\n",
       "mean  1024.195928 -1689.225999 -665.030063 -1238.774635  1.365595  0.236364   \n",
       "std     17.646443    17.651434    0.026460   341.948152  0.023529  0.108351   \n",
       "\n",
       "              F2  \n",
       "mean  571.458929  \n",
       "std    82.228914  "
      ]
     },
     "execution_count": 38,
     "metadata": {},
     "output_type": "execute_result"
    }
   ],
   "source": [
    "DATOS[4].iloc[:,1:].agg([\"mean\",\"std\"])"
   ]
  },
  {
   "cell_type": "code",
   "execution_count": 56,
   "id": "cbbd2ea1-e8fc-443e-9d91-3ae228a86b84",
   "metadata": {},
   "outputs": [
    {
     "name": "stdout",
     "output_type": "stream",
     "text": [
      "<F²> = 326.931285 ± 73.672704\n",
      "<Ec> = 1023.071370 ± 0.898193\n",
      "<P>  = 0.233027 ± 0.002185\n"
     ]
    }
   ],
   "source": [
    "F2s_mean=[]\n",
    "F2s_std=[]\n",
    "\n",
    "Ecs_mean=[]\n",
    "Ecs_std=[]\n",
    "\n",
    "Ps_mean=[]\n",
    "Ps_std=[]\n",
    "\n",
    "\n",
    "for df in DATOS:\n",
    "    F2s_mean.append(df.iloc[:,1:].agg([\"mean\",\"std\"]).loc[\"mean\",\"F2\"])\n",
    "    F2s_mean.append(df.iloc[:,1:].agg([\"mean\",\"std\"]).loc[\"std\",\"F2\"])\n",
    "\n",
    "    Ecs_mean.append(df.iloc[:,1:].agg([\"mean\",\"std\"]).loc[\"mean\",\"Ec\"])\n",
    "    Ecs_std.append(df.iloc[:,1:].agg([\"mean\",\"std\"]).loc[\"std\",\"Ec\"])\n",
    "\n",
    "    Ps_mean.append(df.iloc[:,1:].agg([\"mean\",\"std\"]).loc[\"mean\",\"P_corr\"])\n",
    "    Ps_std.append(df.iloc[:,1:].agg([\"mean\",\"std\"]).loc[\"std\",\"P_corr\"])\n",
    "\n",
    "\n",
    "F2s_mean=np.array(F2s_mean)\n",
    "F2s_std=np.array(F2s_mean)\n",
    "\n",
    "Ecs_mean=np.array(Ecs_mean)\n",
    "Ecs_std=np.array(Ecs_std)\n",
    "\n",
    "Ps_mean=np.array(Ps_mean)\n",
    "Ps_std=np.array(Ps_std)\n",
    "\n",
    "\n",
    "\"\"\"\n",
    "print(\"Ec=\",)\n",
    "\n",
    "print(F2s_mean)\n",
    "print(F2s_std)\n",
    "print(Ecs_mean)\n",
    "print(Ecs_std)\n",
    "print(Ps_mean)\n",
    "print(Ps_std)\n",
    "\n",
    "\"\"\"\n",
    "\n",
    "# Media global = media de las medias\n",
    "F2_mean = np.mean(F2s_mean)\n",
    "Ec_mean = np.mean(Ecs_mean)\n",
    "P_mean  = np.mean(Ps_mean)\n",
    "\n",
    "# Error estándar de la media global --> ¿Deberia tener en cuenta las std de cada bloque simulado?\n",
    "F2_err = np.std(F2s_mean, ddof=1) / np.sqrt(len(F2s_mean))\n",
    "Ec_err = np.std(Ecs_mean, ddof=1) / np.sqrt(len(Ecs_mean))\n",
    "P_err  = np.std(Ps_mean, ddof=1) / np.sqrt(len(Ps_mean))\n",
    "\n",
    "print(f\"<F²> = {F2_mean:.6f} ± {F2_err:.6f}\")\n",
    "print(f\"<Ec> = {Ec_mean:.6f} ± {Ec_err:.6f}\")\n",
    "print(f\"<P>  = {P_mean:.6f} ± {P_err:.6f}\")"
   ]
  }
 ],
 "metadata": {
  "kernelspec": {
   "display_name": "Python [conda env:TFG]",
   "language": "python",
   "name": "conda-env-TFG-py"
  },
  "language_info": {
   "codemirror_mode": {
    "name": "ipython",
    "version": 3
   },
   "file_extension": ".py",
   "mimetype": "text/x-python",
   "name": "python",
   "nbconvert_exporter": "python",
   "pygments_lexer": "ipython3",
   "version": "3.12.12"
  }
 },
 "nbformat": 4,
 "nbformat_minor": 5
}
